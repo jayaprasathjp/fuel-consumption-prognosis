{
 "cells": [
  {
   "cell_type": "markdown",
   "id": "1eb63429",
   "metadata": {
    "id": "1eb63429"
   },
   "source": [
    "-----\n",
    "<center>\n",
    "<h1 style=\"font-size: 50px; font-family: serif;\">Fuel Consumption Ratings Regression !</h1>\n",
    "</center>\n",
    "\n",
    "---"
   ]
  },
  {
   "cell_type": "markdown",
   "id": "459c402d",
   "metadata": {
    "id": "459c402d"
   },
   "source": [
    "<center>\n",
    "<img src=\"https://media.tenor.com/GRq2qp1DU0wAAAAC/fuel-gas.gif\" width=\"550\" height='100'>\n",
    "</center>\n"
   ]
  },
  {
   "cell_type": "markdown",
   "id": "951bf2fe",
   "metadata": {
    "id": "951bf2fe"
   },
   "source": [
    "---\n",
    "# Metadata:\n",
    "---    \n",
    "**1. Dataset**   : Given dataset contain 2022 Fuel Consumption Ratings information.\n",
    "\n",
    "**2. Model Year**: Represent the year in which a particular model of a vehicle was produced. \n",
    "\n",
    "**3. Make**\t  : It describe the brand or manufacturer of a vehicle.\n",
    "\n",
    "**4. Model**     : It refers to a specific version of a vehicle produced by a manufacturer under a particular make or brand.\n",
    "\n",
    "**5. Vehicle Class**: Represent the categorization system used in the automotive industry to group vehicles based on their                        size, body style, and intended use. \n",
    "\n",
    "**6. Engine Size**  : It tell us about the total volume of air and fuel that can be drawn into the engine cylinders of a                          vehicle's engine during one complete cycle. It is typically measured in either cubic centimeters (cc)                      or liters (L).\n",
    "\n",
    "**7. Cylinders**    : It refer to the individual chambers within a vehicle's engine where the combustion process takes place.\n",
    "\n",
    "**8. Transmission** : It represent the system in which power transmission take place, from the engine to the wheels, which                        allowing the vehicle to move forward or backward\n",
    "\n",
    "**9. Fuel Type**    : It refers to the specific type of fuel that is used to power a vehicle, machine,\n",
    "                      or other device.\n",
    "                      Z=  Premium gasoline | D=  Diesel | E=  Ethanol \n",
    "                      |  X=Regular gasoline\n",
    "                   \n",
    "\n",
    "**10. Fuel Consumption(City (L/100 km)** : it represent fuel consumption in the city.\n",
    "\n",
    "**11. Fuel Consumption(Hwy (L/100 km)** : it represent fuel consumption on the Highway.\n",
    "\n",
    "**12. Fuel Consumption(Comb (L/100 km)** : it represent fuel consumption for both city and highway.\n",
    "\n",
    "**13. Fuel Consumption(Comb (mpg))**: it represent fuel consumption for both city & highway, in miles per imperial gallon(mpg).\n",
    "\n",
    "**14. CO2 Emissions(g/km)** : It refer to the amount of CO2 that is emitted by a vehicle for every kilometer that it is driven.\n",
    "\n",
    "**15. CO2 Rating**  : It's measure a vehicle's carbon dioxide (CO2) emissions, typically expressed in grams of CO2 per                           kilometer(g/km).\n",
    "\n",
    "**16. Smog Rating** : It's measure a vehicle's emissions of pollutants that contribute to the formation of smog. "
   ]
  },
  {
   "cell_type": "markdown",
   "id": "74ee589f",
   "metadata": {
    "ExecuteTime": {
     "end_time": "2023-03-19T20:25:41.832437Z",
     "start_time": "2023-03-19T20:25:41.827448Z"
    }
   },
   "source": [
    "------------------------------\n",
    "<center id=\"report\">\n",
    "<h1 style=\"font-size: 30px; font-family: serif;\">Report content</h1>\n",
    "</center>\n",
    "\n",
    "---"
   ]
  },
  {
   "cell_type": "markdown",
   "id": "2e815b83",
   "metadata": {
    "id": "2e815b83"
   },
   "source": [
    "\n",
    "1. <a href=\"#Importmodules\">Import Modules</a><br>\n",
    "    1.1 <a href=\"#Importdata\">Importing data into Dataframe</a><br>\n",
    "    \n",
    "2. <a href=\"#Datatcleaning\">Data cleaning</a><br>\n",
    "    2.1 <a href=\"#df1\">Creating new DataFrame with necessary columns</a><br>\n",
    "    2.2 <a href=\"#nullcheck\">Checking null values</a><br>\n",
    "    2.3 <a href=\"#treatfuel\">Treating Null's in \"Fuel type\"</a><br>\n",
    "    2.4 <a href=\"#nullco2\">Dealing with the nulls present in feature \"CO2 Rating\"</a><br>\n",
    "    \n",
    "<a href=\"#eda\"> Exploratory Data Analysis (E.D.A.)</a><br>\n",
    "\n",
    "3. <a href=\"#univar\">Univariate analysis:-</a><br>\n",
    "    3.1  <a href=\"#mean\">Checking Mean, Median, Standard Deviation and Quantile</a><br>\n",
    "    3.2 <a href=\"#distribute\">Frequency Distribution for the categorical Columns</a><br>\n",
    "    3.3 <a href=\"#numerical\">Frequency Distribution on Numerical columns</a><br>\n",
    "    \n",
    "4. <a href=\"#bivariate\">Bivariate analysis:-</a><br>\n",
    "    4.1 <a href=\"#compare\">Comparison Between all columns</a><br>\n",
    "    4.2  <a href=\"#comparecylinder\">Comparison between \"No. of cylinders\" & \"Fuel consumption\"</a><br>\n",
    "    4.3 <a href=\"#chi\">Performing Chi Square analysis</a><br>\n",
    "    4.4 <a href=\"#heatcorr\">Heatmap showing \"Pearson correlation\"</a><br>\n",
    "    \n",
    "\n",
    "5. <a href=\"#prepro\">Data Preprocessing</a><br>\n",
    "    5.1 <a href=\"#outlier\">Outlier analysis</a><br>\n",
    "    5.2 <a href=\"#ordinal\">Ordinal encoding</a><br>\n",
    "    5.3 <a href=\"#onehot\">One Hot encoding on categorical columns</a><br>\n",
    "    5.4 <a href=\"#traintest\">Split into train and test set</a><br>\n",
    "    5.5 <a href=\"#scailing\">Feature Scaling</a><br>\n",
    "    \n",
    "\n",
    "6. <a href=\"#model\">Training Models</a><br>\n",
    "    6.1 <a href=\"#linear\">Linear Regression</a><br>\n",
    "    6.2  <a href=\"#decision\">Decision Tree Regressor</a><br>\n",
    "    6.3 <a href=\"#rf\">Random Forest Regressor</a><br>\n",
    "    \n",
    "    \n",
    "    \n",
    "7. <a href=\"#deployment\">Model Deployment</a><br>\n",
    "    7.1 <a href=\"#pickling\">Pickling Model and Scaler object for Deployment</a><br>  "
   ]
  },
  {
   "cell_type": "markdown",
   "id": "a90f39ad",
   "metadata": {
    "id": "a90f39ad"
   },
   "source": [
    "---\n",
    "# 1. Import Modules \n",
    "<span id=\"Importmodules\"></span>\n",
    "\n",
    "---"
   ]
  },
  {
   "cell_type": "markdown",
   "id": "f4f7b858",
   "metadata": {},
   "source": [
    "<a href=\"#report\"><button>REPORT CONTENT</button></a>"
   ]
  },
  {
   "cell_type": "markdown",
   "id": "2c5cb13c",
   "metadata": {},
   "source": [
    "## Pandas Module"
   ]
  },
  {
   "cell_type": "code",
   "execution_count": 1,
   "id": "81e1d46a",
   "metadata": {
    "ExecuteTime": {
     "end_time": "2023-04-13T10:51:27.702787Z",
     "start_time": "2023-04-13T10:51:25.255684Z"
    }
   },
   "outputs": [],
   "source": [
    "import pandas as pd\n",
    "import numpy as np\n",
    "import matplotlib.pyplot as plt\n",
    "import seaborn as sns\n",
    "import sys\n",
    "import warnings\n",
    "if not sys.warnoptions:\n",
    "    warnings.simplefilter(\"ignore\")"
   ]
  },
  {
   "cell_type": "markdown",
   "id": "eb8f1150",
   "metadata": {},
   "source": [
    "## M.L. Modules"
   ]
  },
  {
   "cell_type": "code",
   "execution_count": 2,
   "id": "9c35fc36",
   "metadata": {
    "ExecuteTime": {
     "end_time": "2023-04-13T10:51:28.103210Z",
     "start_time": "2023-04-13T10:51:27.735718Z"
    },
    "id": "9c35fc36"
   },
   "outputs": [],
   "source": [
    "from scipy.stats import chi2_contingency\n",
    "\n",
    "#data transformation\n",
    "from sklearn.preprocessing import OrdinalEncoder\n",
    "from sklearn.model_selection import train_test_split\n",
    "from sklearn.preprocessing import StandardScaler\n",
    "\n",
    "# Linear Regression Model\n",
    "from sklearn.linear_model import LinearRegression\n",
    "from sklearn.metrics import r2_score\n",
    "\n",
    "# Decision Tree Regressor Model\n",
    "from sklearn.tree import DecisionTreeRegressor\n",
    "from sklearn import tree\n",
    "\n",
    "# Random Forest Regressor Model\n",
    "from sklearn.ensemble import RandomForestRegressor\n",
    "from sklearn.model_selection import RandomizedSearchCV"
   ]
  },
  {
   "cell_type": "markdown",
   "id": "ce2ad91e",
   "metadata": {
    "id": "ce2ad91e"
   },
   "source": [
    "\n",
    "# 1.1 Creating Dataframe & Basic Observation\n",
    "<span id=\"Importdata\"></span>"
   ]
  },
  {
   "cell_type": "markdown",
   "id": "552f22a0",
   "metadata": {},
   "source": [
    "<a href=\"#report\"><button>REPORT CONTENT</button></a>"
   ]
  },
  {
   "cell_type": "code",
   "execution_count": 3,
   "id": "57f4ca49",
   "metadata": {
    "ExecuteTime": {
     "end_time": "2023-04-13T10:51:29.913368Z",
     "start_time": "2023-04-13T10:51:29.872476Z"
    },
    "id": "57f4ca49",
    "outputId": "27d2a125-38db-49b4-aa6c-33eecbee6bf1"
   },
   "outputs": [
    {
     "data": {
      "text/html": [
       "<div>\n",
       "<style scoped>\n",
       "    .dataframe tbody tr th:only-of-type {\n",
       "        vertical-align: middle;\n",
       "    }\n",
       "\n",
       "    .dataframe tbody tr th {\n",
       "        vertical-align: top;\n",
       "    }\n",
       "\n",
       "    .dataframe thead th {\n",
       "        text-align: right;\n",
       "    }\n",
       "</style>\n",
       "<table border=\"1\" class=\"dataframe\">\n",
       "  <thead>\n",
       "    <tr style=\"text-align: right;\">\n",
       "      <th></th>\n",
       "      <th>Model Year</th>\n",
       "      <th>Make</th>\n",
       "      <th>Model</th>\n",
       "      <th>Vehicle Class</th>\n",
       "      <th>Engine Size(L)</th>\n",
       "      <th>Cylinders</th>\n",
       "      <th>Transmission</th>\n",
       "      <th>Fuel Type</th>\n",
       "      <th>Fuel Consumption (City (L/100 km)</th>\n",
       "      <th>Fuel Consumption(Hwy (L/100 km))</th>\n",
       "      <th>Fuel Consumption(Comb (L/100 km))</th>\n",
       "      <th>Fuel Consumption(Comb (mpg))</th>\n",
       "      <th>CO2 Emissions(g/km)</th>\n",
       "      <th>CO2 Rating</th>\n",
       "      <th>Smog Rating</th>\n",
       "    </tr>\n",
       "  </thead>\n",
       "  <tbody>\n",
       "    <tr>\n",
       "      <th>0</th>\n",
       "      <td>2022</td>\n",
       "      <td>Acura</td>\n",
       "      <td>ILX</td>\n",
       "      <td>Compact</td>\n",
       "      <td>2.4</td>\n",
       "      <td>4</td>\n",
       "      <td>AM8</td>\n",
       "      <td>Z</td>\n",
       "      <td>NaN</td>\n",
       "      <td>7.0</td>\n",
       "      <td>8.6</td>\n",
       "      <td>33.0</td>\n",
       "      <td>200.0</td>\n",
       "      <td>6.0</td>\n",
       "      <td>3.0</td>\n",
       "    </tr>\n",
       "    <tr>\n",
       "      <th>1</th>\n",
       "      <td>2022</td>\n",
       "      <td>Acura</td>\n",
       "      <td>MDX SH-AWD</td>\n",
       "      <td>SUV: Small</td>\n",
       "      <td>3.5</td>\n",
       "      <td>6</td>\n",
       "      <td>AS10</td>\n",
       "      <td>Z</td>\n",
       "      <td>12.6</td>\n",
       "      <td>9.4</td>\n",
       "      <td>11.2</td>\n",
       "      <td>25.0</td>\n",
       "      <td>263.0</td>\n",
       "      <td>4.0</td>\n",
       "      <td>5.0</td>\n",
       "    </tr>\n",
       "    <tr>\n",
       "      <th>2</th>\n",
       "      <td>2022</td>\n",
       "      <td>Acura</td>\n",
       "      <td>RDX SH-AWD</td>\n",
       "      <td>SUV: Small</td>\n",
       "      <td>2.0</td>\n",
       "      <td>4</td>\n",
       "      <td>AS10</td>\n",
       "      <td>Z</td>\n",
       "      <td>11.0</td>\n",
       "      <td>8.6</td>\n",
       "      <td>9.9</td>\n",
       "      <td>29.0</td>\n",
       "      <td>232.0</td>\n",
       "      <td>5.0</td>\n",
       "      <td>6.0</td>\n",
       "    </tr>\n",
       "    <tr>\n",
       "      <th>3</th>\n",
       "      <td>2022</td>\n",
       "      <td>Acura</td>\n",
       "      <td>RDX SH-AWD A-SPEC</td>\n",
       "      <td>SUV: Small</td>\n",
       "      <td>2.0</td>\n",
       "      <td>4</td>\n",
       "      <td>AS10</td>\n",
       "      <td>Z</td>\n",
       "      <td>11.3</td>\n",
       "      <td>9.1</td>\n",
       "      <td>10.3</td>\n",
       "      <td>27.0</td>\n",
       "      <td>242.0</td>\n",
       "      <td>5.0</td>\n",
       "      <td>6.0</td>\n",
       "    </tr>\n",
       "    <tr>\n",
       "      <th>4</th>\n",
       "      <td>2022</td>\n",
       "      <td>Acura</td>\n",
       "      <td>TLX SH-AWD</td>\n",
       "      <td>Compact</td>\n",
       "      <td>2.0</td>\n",
       "      <td>4</td>\n",
       "      <td>AS10</td>\n",
       "      <td>Z</td>\n",
       "      <td>11.2</td>\n",
       "      <td>8.0</td>\n",
       "      <td>9.8</td>\n",
       "      <td>29.0</td>\n",
       "      <td>230.0</td>\n",
       "      <td>5.0</td>\n",
       "      <td>7.0</td>\n",
       "    </tr>\n",
       "    <tr>\n",
       "      <th>...</th>\n",
       "      <td>...</td>\n",
       "      <td>...</td>\n",
       "      <td>...</td>\n",
       "      <td>...</td>\n",
       "      <td>...</td>\n",
       "      <td>...</td>\n",
       "      <td>...</td>\n",
       "      <td>...</td>\n",
       "      <td>...</td>\n",
       "      <td>...</td>\n",
       "      <td>...</td>\n",
       "      <td>...</td>\n",
       "      <td>...</td>\n",
       "      <td>...</td>\n",
       "      <td>...</td>\n",
       "    </tr>\n",
       "    <tr>\n",
       "      <th>940</th>\n",
       "      <td>2022</td>\n",
       "      <td>Volvo</td>\n",
       "      <td>XC40 T5 AWD</td>\n",
       "      <td>SUV: Small</td>\n",
       "      <td>2.0</td>\n",
       "      <td>4</td>\n",
       "      <td>AS8</td>\n",
       "      <td>Z</td>\n",
       "      <td>10.7</td>\n",
       "      <td>7.7</td>\n",
       "      <td>9.4</td>\n",
       "      <td>30.0</td>\n",
       "      <td>219.0</td>\n",
       "      <td>5.0</td>\n",
       "      <td>5.0</td>\n",
       "    </tr>\n",
       "    <tr>\n",
       "      <th>941</th>\n",
       "      <td>2022</td>\n",
       "      <td>Volvo</td>\n",
       "      <td>XC60 B5 AWD</td>\n",
       "      <td>SUV: Small</td>\n",
       "      <td>2.0</td>\n",
       "      <td>4</td>\n",
       "      <td>AS8</td>\n",
       "      <td>Z</td>\n",
       "      <td>10.5</td>\n",
       "      <td>8.1</td>\n",
       "      <td>9.4</td>\n",
       "      <td>30.0</td>\n",
       "      <td>219.0</td>\n",
       "      <td>5.0</td>\n",
       "      <td>5.0</td>\n",
       "    </tr>\n",
       "    <tr>\n",
       "      <th>942</th>\n",
       "      <td>2022</td>\n",
       "      <td>Volvo</td>\n",
       "      <td>XC60 B6 AWD</td>\n",
       "      <td>SUV: Small</td>\n",
       "      <td>2.0</td>\n",
       "      <td>4</td>\n",
       "      <td>AS8</td>\n",
       "      <td>Z</td>\n",
       "      <td>11.0</td>\n",
       "      <td>8.7</td>\n",
       "      <td>9.9</td>\n",
       "      <td>29.0</td>\n",
       "      <td>232.0</td>\n",
       "      <td>5.0</td>\n",
       "      <td>NaN</td>\n",
       "    </tr>\n",
       "    <tr>\n",
       "      <th>943</th>\n",
       "      <td>2022</td>\n",
       "      <td>Volvo</td>\n",
       "      <td>XC90 T5 AWD</td>\n",
       "      <td>SUV: Standard</td>\n",
       "      <td>2.0</td>\n",
       "      <td>4</td>\n",
       "      <td>AS8</td>\n",
       "      <td>Z</td>\n",
       "      <td>11.5</td>\n",
       "      <td>8.4</td>\n",
       "      <td>10.1</td>\n",
       "      <td>28.0</td>\n",
       "      <td>236.0</td>\n",
       "      <td>5.0</td>\n",
       "      <td>5.0</td>\n",
       "    </tr>\n",
       "    <tr>\n",
       "      <th>944</th>\n",
       "      <td>2022</td>\n",
       "      <td>Volvo</td>\n",
       "      <td>XC90 T6 AWD</td>\n",
       "      <td>SUV: Standard</td>\n",
       "      <td>2.0</td>\n",
       "      <td>4</td>\n",
       "      <td>AS8</td>\n",
       "      <td>Z</td>\n",
       "      <td>NaN</td>\n",
       "      <td>8.9</td>\n",
       "      <td>10.8</td>\n",
       "      <td>26.0</td>\n",
       "      <td>252.0</td>\n",
       "      <td>5.0</td>\n",
       "      <td>7.0</td>\n",
       "    </tr>\n",
       "  </tbody>\n",
       "</table>\n",
       "<p>945 rows × 15 columns</p>\n",
       "</div>"
      ],
      "text/plain": [
       "     Model Year   Make              Model  Vehicle Class  Engine Size(L)  \\\n",
       "0          2022  Acura                ILX        Compact             2.4   \n",
       "1          2022  Acura         MDX SH-AWD     SUV: Small             3.5   \n",
       "2          2022  Acura         RDX SH-AWD     SUV: Small             2.0   \n",
       "3          2022  Acura  RDX SH-AWD A-SPEC     SUV: Small             2.0   \n",
       "4          2022  Acura         TLX SH-AWD        Compact             2.0   \n",
       "..          ...    ...                ...            ...             ...   \n",
       "940        2022  Volvo        XC40 T5 AWD     SUV: Small             2.0   \n",
       "941        2022  Volvo        XC60 B5 AWD     SUV: Small             2.0   \n",
       "942        2022  Volvo        XC60 B6 AWD     SUV: Small             2.0   \n",
       "943        2022  Volvo        XC90 T5 AWD  SUV: Standard             2.0   \n",
       "944        2022  Volvo        XC90 T6 AWD  SUV: Standard             2.0   \n",
       "\n",
       "     Cylinders Transmission Fuel Type  Fuel Consumption (City (L/100 km)  \\\n",
       "0            4          AM8         Z                                NaN   \n",
       "1            6         AS10         Z                               12.6   \n",
       "2            4         AS10         Z                               11.0   \n",
       "3            4         AS10         Z                               11.3   \n",
       "4            4         AS10         Z                               11.2   \n",
       "..         ...          ...       ...                                ...   \n",
       "940          4          AS8         Z                               10.7   \n",
       "941          4          AS8         Z                               10.5   \n",
       "942          4          AS8         Z                               11.0   \n",
       "943          4          AS8         Z                               11.5   \n",
       "944          4          AS8         Z                                NaN   \n",
       "\n",
       "     Fuel Consumption(Hwy (L/100 km))  Fuel Consumption(Comb (L/100 km))  \\\n",
       "0                                 7.0                                8.6   \n",
       "1                                 9.4                               11.2   \n",
       "2                                 8.6                                9.9   \n",
       "3                                 9.1                               10.3   \n",
       "4                                 8.0                                9.8   \n",
       "..                                ...                                ...   \n",
       "940                               7.7                                9.4   \n",
       "941                               8.1                                9.4   \n",
       "942                               8.7                                9.9   \n",
       "943                               8.4                               10.1   \n",
       "944                               8.9                               10.8   \n",
       "\n",
       "     Fuel Consumption(Comb (mpg))  CO2 Emissions(g/km)  CO2 Rating  \\\n",
       "0                            33.0                200.0         6.0   \n",
       "1                            25.0                263.0         4.0   \n",
       "2                            29.0                232.0         5.0   \n",
       "3                            27.0                242.0         5.0   \n",
       "4                            29.0                230.0         5.0   \n",
       "..                            ...                  ...         ...   \n",
       "940                          30.0                219.0         5.0   \n",
       "941                          30.0                219.0         5.0   \n",
       "942                          29.0                232.0         5.0   \n",
       "943                          28.0                236.0         5.0   \n",
       "944                          26.0                252.0         5.0   \n",
       "\n",
       "     Smog Rating  \n",
       "0            3.0  \n",
       "1            5.0  \n",
       "2            6.0  \n",
       "3            6.0  \n",
       "4            7.0  \n",
       "..           ...  \n",
       "940          5.0  \n",
       "941          5.0  \n",
       "942          NaN  \n",
       "943          5.0  \n",
       "944          7.0  \n",
       "\n",
       "[945 rows x 15 columns]"
      ]
     },
     "execution_count": 3,
     "metadata": {},
     "output_type": "execute_result"
    }
   ],
   "source": [
    "data = pd.read_csv(r\"D:\\MASAI\\ML\\FUEL_CONSUMPTION_PROJECT\\data\\final_data.csv\")\n",
    "data"
   ]
  },
  {
   "cell_type": "code",
   "execution_count": 4,
   "id": "04c1fb91",
   "metadata": {
    "ExecuteTime": {
     "end_time": "2023-04-13T10:51:31.526983Z",
     "start_time": "2023-04-13T10:51:31.503044Z"
    }
   },
   "outputs": [
    {
     "name": "stdout",
     "output_type": "stream",
     "text": [
      "<class 'pandas.core.frame.DataFrame'>\n",
      "RangeIndex: 945 entries, 0 to 944\n",
      "Data columns (total 15 columns):\n",
      " #   Column                             Non-Null Count  Dtype  \n",
      "---  ------                             --------------  -----  \n",
      " 0   Model Year                         945 non-null    int64  \n",
      " 1   Make                               945 non-null    object \n",
      " 2   Model                              945 non-null    object \n",
      " 3   Vehicle Class                      945 non-null    object \n",
      " 4   Engine Size(L)                     945 non-null    float64\n",
      " 5   Cylinders                          945 non-null    int64  \n",
      " 6   Transmission                       945 non-null    object \n",
      " 7   Fuel Type                          944 non-null    object \n",
      " 8   Fuel Consumption (City (L/100 km)  931 non-null    float64\n",
      " 9   Fuel Consumption(Hwy (L/100 km))   930 non-null    float64\n",
      " 10  Fuel Consumption(Comb (L/100 km))  945 non-null    float64\n",
      " 11  Fuel Consumption(Comb (mpg))       931 non-null    float64\n",
      " 12  CO2 Emissions(g/km)                934 non-null    float64\n",
      " 13  CO2 Rating                         932 non-null    float64\n",
      " 14  Smog Rating                        927 non-null    float64\n",
      "dtypes: float64(8), int64(2), object(5)\n",
      "memory usage: 110.9+ KB\n"
     ]
    }
   ],
   "source": [
    "data.info()"
   ]
  },
  {
   "cell_type": "code",
   "execution_count": 5,
   "id": "c685e6d4",
   "metadata": {
    "ExecuteTime": {
     "end_time": "2023-04-13T10:51:32.677477Z",
     "start_time": "2023-04-13T10:51:32.663515Z"
    }
   },
   "outputs": [
    {
     "data": {
      "text/plain": [
       "Index(['Model Year', 'Make', 'Model', 'Vehicle Class', 'Engine Size(L)',\n",
       "       'Cylinders', 'Transmission', 'Fuel Type',\n",
       "       'Fuel Consumption (City (L/100 km)', 'Fuel Consumption(Hwy (L/100 km))',\n",
       "       'Fuel Consumption(Comb (L/100 km))', 'Fuel Consumption(Comb (mpg))',\n",
       "       'CO2 Emissions(g/km)', 'CO2 Rating', 'Smog Rating'],\n",
       "      dtype='object')"
      ]
     },
     "execution_count": 5,
     "metadata": {},
     "output_type": "execute_result"
    }
   ],
   "source": [
    "data.columns"
   ]
  },
  {
   "cell_type": "code",
   "execution_count": 6,
   "id": "3e527a31",
   "metadata": {
    "ExecuteTime": {
     "end_time": "2023-04-13T10:51:35.117790Z",
     "start_time": "2023-04-13T10:51:35.095849Z"
    }
   },
   "outputs": [
    {
     "data": {
      "text/html": [
       "<div>\n",
       "<style scoped>\n",
       "    .dataframe tbody tr th:only-of-type {\n",
       "        vertical-align: middle;\n",
       "    }\n",
       "\n",
       "    .dataframe tbody tr th {\n",
       "        vertical-align: top;\n",
       "    }\n",
       "\n",
       "    .dataframe thead th {\n",
       "        text-align: right;\n",
       "    }\n",
       "</style>\n",
       "<table border=\"1\" class=\"dataframe\">\n",
       "  <thead>\n",
       "    <tr style=\"text-align: right;\">\n",
       "      <th></th>\n",
       "      <th>CO2 Rating</th>\n",
       "      <th>Smog Rating</th>\n",
       "      <th>CO2 Emissions(g/km)</th>\n",
       "    </tr>\n",
       "  </thead>\n",
       "  <tbody>\n",
       "    <tr>\n",
       "      <th>CO2 Rating</th>\n",
       "      <td>1.000000</td>\n",
       "      <td>0.503795</td>\n",
       "      <td>-0.955018</td>\n",
       "    </tr>\n",
       "    <tr>\n",
       "      <th>Smog Rating</th>\n",
       "      <td>0.503795</td>\n",
       "      <td>1.000000</td>\n",
       "      <td>-0.520441</td>\n",
       "    </tr>\n",
       "    <tr>\n",
       "      <th>CO2 Emissions(g/km)</th>\n",
       "      <td>-0.955018</td>\n",
       "      <td>-0.520441</td>\n",
       "      <td>1.000000</td>\n",
       "    </tr>\n",
       "  </tbody>\n",
       "</table>\n",
       "</div>"
      ],
      "text/plain": [
       "                     CO2 Rating  Smog Rating  CO2 Emissions(g/km)\n",
       "CO2 Rating             1.000000     0.503795            -0.955018\n",
       "Smog Rating            0.503795     1.000000            -0.520441\n",
       "CO2 Emissions(g/km)   -0.955018    -0.520441             1.000000"
      ]
     },
     "execution_count": 6,
     "metadata": {},
     "output_type": "execute_result"
    }
   ],
   "source": [
    "data[['CO2 Rating','Smog Rating','CO2 Emissions(g/km)']].corr()"
   ]
  },
  {
   "cell_type": "markdown",
   "id": "4089c831",
   "metadata": {
    "id": "4089c831"
   },
   "source": [
    "-----\n",
    "<center>\n",
    "<h1 style=\"font-size: 40px; font-family: serif;\">2. Data cleaning</h1>\n",
    "</center>\n",
    "<span id=\"Datatcleaning\"></span>\n",
    "\n",
    "---"
   ]
  },
  {
   "cell_type": "markdown",
   "id": "e5852c3a",
   "metadata": {},
   "source": [
    "<a href=\"#report\"><button>REPORT CONTENT</button></a>"
   ]
  },
  {
   "cell_type": "markdown",
   "id": "de7a22a5",
   "metadata": {
    "id": "de7a22a5"
   },
   "source": [
    "# 2.1 Creating new DataFrame with necessary columns\n",
    "<span id=\"df1\"></span>\n"
   ]
  },
  {
   "cell_type": "code",
   "execution_count": 9,
   "id": "c1b943ed",
   "metadata": {
    "ExecuteTime": {
     "end_time": "2023-04-13T10:52:33.277905Z",
     "start_time": "2023-04-13T10:52:33.272919Z"
    },
    "id": "c1b943ed"
   },
   "outputs": [],
   "source": [
    "df= data.drop(['Model Year','Make','Model','Fuel Consumption (City (L/100 km)','Fuel Consumption(Hwy (L/100 km))','Fuel Consumption(Comb (mpg))','CO2 Emissions(g/km)','Smog Rating'],axis=1)"
   ]
  },
  {
   "cell_type": "markdown",
   "id": "4e42988e",
   "metadata": {
    "id": "4e42988e"
   },
   "source": [
    "**New DataFrame**"
   ]
  },
  {
   "cell_type": "code",
   "execution_count": 10,
   "id": "0d083c7c",
   "metadata": {
    "ExecuteTime": {
     "end_time": "2023-04-13T10:52:33.915982Z",
     "start_time": "2023-04-13T10:52:33.904014Z"
    },
    "id": "0d083c7c",
    "outputId": "f733d33d-7a6b-4779-e39a-546d87f633e3"
   },
   "outputs": [
    {
     "data": {
      "text/html": [
       "<div>\n",
       "<style scoped>\n",
       "    .dataframe tbody tr th:only-of-type {\n",
       "        vertical-align: middle;\n",
       "    }\n",
       "\n",
       "    .dataframe tbody tr th {\n",
       "        vertical-align: top;\n",
       "    }\n",
       "\n",
       "    .dataframe thead th {\n",
       "        text-align: right;\n",
       "    }\n",
       "</style>\n",
       "<table border=\"1\" class=\"dataframe\">\n",
       "  <thead>\n",
       "    <tr style=\"text-align: right;\">\n",
       "      <th></th>\n",
       "      <th>Vehicle Class</th>\n",
       "      <th>Engine Size(L)</th>\n",
       "      <th>Cylinders</th>\n",
       "      <th>Transmission</th>\n",
       "      <th>Fuel Type</th>\n",
       "      <th>Fuel Consumption(Comb (L/100 km))</th>\n",
       "      <th>CO2 Rating</th>\n",
       "    </tr>\n",
       "  </thead>\n",
       "  <tbody>\n",
       "    <tr>\n",
       "      <th>0</th>\n",
       "      <td>Compact</td>\n",
       "      <td>2.4</td>\n",
       "      <td>4</td>\n",
       "      <td>AM8</td>\n",
       "      <td>Z</td>\n",
       "      <td>8.6</td>\n",
       "      <td>6.0</td>\n",
       "    </tr>\n",
       "    <tr>\n",
       "      <th>1</th>\n",
       "      <td>SUV: Small</td>\n",
       "      <td>3.5</td>\n",
       "      <td>6</td>\n",
       "      <td>AS10</td>\n",
       "      <td>Z</td>\n",
       "      <td>11.2</td>\n",
       "      <td>4.0</td>\n",
       "    </tr>\n",
       "    <tr>\n",
       "      <th>2</th>\n",
       "      <td>SUV: Small</td>\n",
       "      <td>2.0</td>\n",
       "      <td>4</td>\n",
       "      <td>AS10</td>\n",
       "      <td>Z</td>\n",
       "      <td>9.9</td>\n",
       "      <td>5.0</td>\n",
       "    </tr>\n",
       "    <tr>\n",
       "      <th>3</th>\n",
       "      <td>SUV: Small</td>\n",
       "      <td>2.0</td>\n",
       "      <td>4</td>\n",
       "      <td>AS10</td>\n",
       "      <td>Z</td>\n",
       "      <td>10.3</td>\n",
       "      <td>5.0</td>\n",
       "    </tr>\n",
       "    <tr>\n",
       "      <th>4</th>\n",
       "      <td>Compact</td>\n",
       "      <td>2.0</td>\n",
       "      <td>4</td>\n",
       "      <td>AS10</td>\n",
       "      <td>Z</td>\n",
       "      <td>9.8</td>\n",
       "      <td>5.0</td>\n",
       "    </tr>\n",
       "    <tr>\n",
       "      <th>...</th>\n",
       "      <td>...</td>\n",
       "      <td>...</td>\n",
       "      <td>...</td>\n",
       "      <td>...</td>\n",
       "      <td>...</td>\n",
       "      <td>...</td>\n",
       "      <td>...</td>\n",
       "    </tr>\n",
       "    <tr>\n",
       "      <th>940</th>\n",
       "      <td>SUV: Small</td>\n",
       "      <td>2.0</td>\n",
       "      <td>4</td>\n",
       "      <td>AS8</td>\n",
       "      <td>Z</td>\n",
       "      <td>9.4</td>\n",
       "      <td>5.0</td>\n",
       "    </tr>\n",
       "    <tr>\n",
       "      <th>941</th>\n",
       "      <td>SUV: Small</td>\n",
       "      <td>2.0</td>\n",
       "      <td>4</td>\n",
       "      <td>AS8</td>\n",
       "      <td>Z</td>\n",
       "      <td>9.4</td>\n",
       "      <td>5.0</td>\n",
       "    </tr>\n",
       "    <tr>\n",
       "      <th>942</th>\n",
       "      <td>SUV: Small</td>\n",
       "      <td>2.0</td>\n",
       "      <td>4</td>\n",
       "      <td>AS8</td>\n",
       "      <td>Z</td>\n",
       "      <td>9.9</td>\n",
       "      <td>5.0</td>\n",
       "    </tr>\n",
       "    <tr>\n",
       "      <th>943</th>\n",
       "      <td>SUV: Standard</td>\n",
       "      <td>2.0</td>\n",
       "      <td>4</td>\n",
       "      <td>AS8</td>\n",
       "      <td>Z</td>\n",
       "      <td>10.1</td>\n",
       "      <td>5.0</td>\n",
       "    </tr>\n",
       "    <tr>\n",
       "      <th>944</th>\n",
       "      <td>SUV: Standard</td>\n",
       "      <td>2.0</td>\n",
       "      <td>4</td>\n",
       "      <td>AS8</td>\n",
       "      <td>Z</td>\n",
       "      <td>10.8</td>\n",
       "      <td>5.0</td>\n",
       "    </tr>\n",
       "  </tbody>\n",
       "</table>\n",
       "<p>945 rows × 7 columns</p>\n",
       "</div>"
      ],
      "text/plain": [
       "     Vehicle Class  Engine Size(L)  Cylinders Transmission Fuel Type  \\\n",
       "0          Compact             2.4          4          AM8         Z   \n",
       "1       SUV: Small             3.5          6         AS10         Z   \n",
       "2       SUV: Small             2.0          4         AS10         Z   \n",
       "3       SUV: Small             2.0          4         AS10         Z   \n",
       "4          Compact             2.0          4         AS10         Z   \n",
       "..             ...             ...        ...          ...       ...   \n",
       "940     SUV: Small             2.0          4          AS8         Z   \n",
       "941     SUV: Small             2.0          4          AS8         Z   \n",
       "942     SUV: Small             2.0          4          AS8         Z   \n",
       "943  SUV: Standard             2.0          4          AS8         Z   \n",
       "944  SUV: Standard             2.0          4          AS8         Z   \n",
       "\n",
       "     Fuel Consumption(Comb (L/100 km))  CO2 Rating  \n",
       "0                                  8.6         6.0  \n",
       "1                                 11.2         4.0  \n",
       "2                                  9.9         5.0  \n",
       "3                                 10.3         5.0  \n",
       "4                                  9.8         5.0  \n",
       "..                                 ...         ...  \n",
       "940                                9.4         5.0  \n",
       "941                                9.4         5.0  \n",
       "942                                9.9         5.0  \n",
       "943                               10.1         5.0  \n",
       "944                               10.8         5.0  \n",
       "\n",
       "[945 rows x 7 columns]"
      ]
     },
     "execution_count": 10,
     "metadata": {},
     "output_type": "execute_result"
    }
   ],
   "source": [
    "df"
   ]
  },
  {
   "cell_type": "markdown",
   "id": "6b9389fb",
   "metadata": {
    "id": "6b9389fb"
   },
   "source": [
    "**Renaming the columns**"
   ]
  },
  {
   "cell_type": "code",
   "execution_count": 11,
   "id": "57cf3a0b",
   "metadata": {
    "ExecuteTime": {
     "end_time": "2023-04-13T10:52:35.941552Z",
     "start_time": "2023-04-13T10:52:35.926594Z"
    },
    "id": "57cf3a0b"
   },
   "outputs": [],
   "source": [
    "df = df.rename(columns = {'Vehicle Class':'Vehicle Class', 'Engine Size(L)':'Engine Size', 'Cylinders': 'Cylinders', 'Transmission':'Transmission','Fuel Type':'Fuel Type', 'Fuel Consumption(Comb (L/100 km))':'Fuel Consumption', 'CO2 Rating':'CO2 Rating'})"
   ]
  },
  {
   "cell_type": "markdown",
   "id": "ee4098be",
   "metadata": {
    "id": "ee4098be"
   },
   "source": [
    "## 2.2 Checking null values\n",
    "<span id=\"nullcheck\"></span>"
   ]
  },
  {
   "cell_type": "markdown",
   "id": "62189b0f",
   "metadata": {},
   "source": [
    "<a href=\"#report\"><button>REPORT CONTENT</button></a>"
   ]
  },
  {
   "cell_type": "code",
   "execution_count": 12,
   "id": "520f5fc1",
   "metadata": {
    "ExecuteTime": {
     "end_time": "2023-04-13T10:52:36.883204Z",
     "start_time": "2023-04-13T10:52:36.864253Z"
    },
    "id": "520f5fc1",
    "outputId": "820b1fd8-d20a-40d2-b960-e559b0e9a836"
   },
   "outputs": [
    {
     "data": {
      "text/plain": [
       "Vehicle Class        0\n",
       "Engine Size          0\n",
       "Cylinders            0\n",
       "Transmission         0\n",
       "Fuel Type            1\n",
       "Fuel Consumption     0\n",
       "CO2 Rating          13\n",
       "dtype: int64"
      ]
     },
     "execution_count": 12,
     "metadata": {},
     "output_type": "execute_result"
    }
   ],
   "source": [
    "df.isna().sum()"
   ]
  },
  {
   "cell_type": "markdown",
   "id": "85b73eb2",
   "metadata": {
    "id": "85b73eb2"
   },
   "source": [
    "## 2.3.1  Fuel type\n",
    "<span id=\"treatfuel\"></span>"
   ]
  },
  {
   "cell_type": "code",
   "execution_count": 13,
   "id": "f322321a",
   "metadata": {
    "ExecuteTime": {
     "end_time": "2023-04-13T10:52:38.121682Z",
     "start_time": "2023-04-13T10:52:38.111708Z"
    },
    "id": "f322321a"
   },
   "outputs": [],
   "source": [
    "df['Fuel Type'].fillna((df['Fuel Type'].mode()[0]), inplace=True)"
   ]
  },
  {
   "cell_type": "code",
   "execution_count": 14,
   "id": "3f0ec3bb",
   "metadata": {
    "ExecuteTime": {
     "end_time": "2023-04-13T10:52:38.400426Z",
     "start_time": "2023-04-13T10:52:38.392472Z"
    },
    "id": "3f0ec3bb",
    "outputId": "68bb9bf8-bf76-4cba-c2e1-ddd2461695e7"
   },
   "outputs": [
    {
     "data": {
      "text/html": [
       "<div>\n",
       "<style scoped>\n",
       "    .dataframe tbody tr th:only-of-type {\n",
       "        vertical-align: middle;\n",
       "    }\n",
       "\n",
       "    .dataframe tbody tr th {\n",
       "        vertical-align: top;\n",
       "    }\n",
       "\n",
       "    .dataframe thead th {\n",
       "        text-align: right;\n",
       "    }\n",
       "</style>\n",
       "<table border=\"1\" class=\"dataframe\">\n",
       "  <thead>\n",
       "    <tr style=\"text-align: right;\">\n",
       "      <th></th>\n",
       "      <th>Vehicle Class</th>\n",
       "      <th>Engine Size</th>\n",
       "      <th>Cylinders</th>\n",
       "      <th>Transmission</th>\n",
       "      <th>Fuel Type</th>\n",
       "      <th>Fuel Consumption</th>\n",
       "      <th>CO2 Rating</th>\n",
       "    </tr>\n",
       "  </thead>\n",
       "  <tbody>\n",
       "    <tr>\n",
       "      <th>0</th>\n",
       "      <td>Compact</td>\n",
       "      <td>2.4</td>\n",
       "      <td>4</td>\n",
       "      <td>AM8</td>\n",
       "      <td>Z</td>\n",
       "      <td>8.6</td>\n",
       "      <td>6.0</td>\n",
       "    </tr>\n",
       "    <tr>\n",
       "      <th>1</th>\n",
       "      <td>SUV: Small</td>\n",
       "      <td>3.5</td>\n",
       "      <td>6</td>\n",
       "      <td>AS10</td>\n",
       "      <td>Z</td>\n",
       "      <td>11.2</td>\n",
       "      <td>4.0</td>\n",
       "    </tr>\n",
       "    <tr>\n",
       "      <th>2</th>\n",
       "      <td>SUV: Small</td>\n",
       "      <td>2.0</td>\n",
       "      <td>4</td>\n",
       "      <td>AS10</td>\n",
       "      <td>Z</td>\n",
       "      <td>9.9</td>\n",
       "      <td>5.0</td>\n",
       "    </tr>\n",
       "    <tr>\n",
       "      <th>3</th>\n",
       "      <td>SUV: Small</td>\n",
       "      <td>2.0</td>\n",
       "      <td>4</td>\n",
       "      <td>AS10</td>\n",
       "      <td>Z</td>\n",
       "      <td>10.3</td>\n",
       "      <td>5.0</td>\n",
       "    </tr>\n",
       "    <tr>\n",
       "      <th>4</th>\n",
       "      <td>Compact</td>\n",
       "      <td>2.0</td>\n",
       "      <td>4</td>\n",
       "      <td>AS10</td>\n",
       "      <td>Z</td>\n",
       "      <td>9.8</td>\n",
       "      <td>5.0</td>\n",
       "    </tr>\n",
       "  </tbody>\n",
       "</table>\n",
       "</div>"
      ],
      "text/plain": [
       "  Vehicle Class  Engine Size  Cylinders Transmission Fuel Type  \\\n",
       "0       Compact          2.4          4          AM8         Z   \n",
       "1    SUV: Small          3.5          6         AS10         Z   \n",
       "2    SUV: Small          2.0          4         AS10         Z   \n",
       "3    SUV: Small          2.0          4         AS10         Z   \n",
       "4       Compact          2.0          4         AS10         Z   \n",
       "\n",
       "   Fuel Consumption  CO2 Rating  \n",
       "0               8.6         6.0  \n",
       "1              11.2         4.0  \n",
       "2               9.9         5.0  \n",
       "3              10.3         5.0  \n",
       "4               9.8         5.0  "
      ]
     },
     "execution_count": 14,
     "metadata": {},
     "output_type": "execute_result"
    }
   ],
   "source": [
    "df.head()"
   ]
  },
  {
   "cell_type": "markdown",
   "id": "64ec4244",
   "metadata": {
    "id": "64ec4244"
   },
   "source": [
    "## 2.3.2 CO2 Rating\n",
    "<span id=\"nullco2\"></span>"
   ]
  },
  {
   "cell_type": "code",
   "execution_count": 15,
   "id": "fe2b1efc",
   "metadata": {
    "ExecuteTime": {
     "end_time": "2023-04-13T10:52:39.205832Z",
     "start_time": "2023-04-13T10:52:39.198851Z"
    }
   },
   "outputs": [
    {
     "data": {
      "text/html": [
       "<div>\n",
       "<style scoped>\n",
       "    .dataframe tbody tr th:only-of-type {\n",
       "        vertical-align: middle;\n",
       "    }\n",
       "\n",
       "    .dataframe tbody tr th {\n",
       "        vertical-align: top;\n",
       "    }\n",
       "\n",
       "    .dataframe thead th {\n",
       "        text-align: right;\n",
       "    }\n",
       "</style>\n",
       "<table border=\"1\" class=\"dataframe\">\n",
       "  <thead>\n",
       "    <tr style=\"text-align: right;\">\n",
       "      <th></th>\n",
       "      <th>Fuel Consumption</th>\n",
       "      <th>CO2 Rating</th>\n",
       "    </tr>\n",
       "  </thead>\n",
       "  <tbody>\n",
       "    <tr>\n",
       "      <th>Fuel Consumption</th>\n",
       "      <td>1.00000</td>\n",
       "      <td>-0.92762</td>\n",
       "    </tr>\n",
       "    <tr>\n",
       "      <th>CO2 Rating</th>\n",
       "      <td>-0.92762</td>\n",
       "      <td>1.00000</td>\n",
       "    </tr>\n",
       "  </tbody>\n",
       "</table>\n",
       "</div>"
      ],
      "text/plain": [
       "                  Fuel Consumption  CO2 Rating\n",
       "Fuel Consumption           1.00000    -0.92762\n",
       "CO2 Rating                -0.92762     1.00000"
      ]
     },
     "execution_count": 15,
     "metadata": {},
     "output_type": "execute_result"
    }
   ],
   "source": [
    "df[['Fuel Consumption','CO2 Rating']].corr()"
   ]
  },
  {
   "cell_type": "code",
   "execution_count": 15,
   "id": "79a59d76",
   "metadata": {
    "ExecuteTime": {
     "end_time": "2023-03-27T07:53:07.818560Z",
     "start_time": "2023-03-27T07:53:07.806592Z"
    }
   },
   "outputs": [
    {
     "data": {
      "text/html": [
       "<div>\n",
       "<style scoped>\n",
       "    .dataframe tbody tr th:only-of-type {\n",
       "        vertical-align: middle;\n",
       "    }\n",
       "\n",
       "    .dataframe tbody tr th {\n",
       "        vertical-align: top;\n",
       "    }\n",
       "\n",
       "    .dataframe thead th {\n",
       "        text-align: right;\n",
       "    }\n",
       "</style>\n",
       "<table border=\"1\" class=\"dataframe\">\n",
       "  <thead>\n",
       "    <tr style=\"text-align: right;\">\n",
       "      <th></th>\n",
       "      <th>Fuel Consumption</th>\n",
       "    </tr>\n",
       "    <tr>\n",
       "      <th>CO2 Rating</th>\n",
       "      <th></th>\n",
       "    </tr>\n",
       "  </thead>\n",
       "  <tbody>\n",
       "    <tr>\n",
       "      <th>1.0</th>\n",
       "      <td>21.5</td>\n",
       "    </tr>\n",
       "    <tr>\n",
       "      <th>2.0</th>\n",
       "      <td>16.0</td>\n",
       "    </tr>\n",
       "    <tr>\n",
       "      <th>3.0</th>\n",
       "      <td>13.9</td>\n",
       "    </tr>\n",
       "    <tr>\n",
       "      <th>4.0</th>\n",
       "      <td>11.7</td>\n",
       "    </tr>\n",
       "    <tr>\n",
       "      <th>5.0</th>\n",
       "      <td>9.9</td>\n",
       "    </tr>\n",
       "    <tr>\n",
       "      <th>6.0</th>\n",
       "      <td>8.3</td>\n",
       "    </tr>\n",
       "    <tr>\n",
       "      <th>7.0</th>\n",
       "      <td>7.3</td>\n",
       "    </tr>\n",
       "    <tr>\n",
       "      <th>8.0</th>\n",
       "      <td>6.0</td>\n",
       "    </tr>\n",
       "    <tr>\n",
       "      <th>9.0</th>\n",
       "      <td>4.8</td>\n",
       "    </tr>\n",
       "    <tr>\n",
       "      <th>10.0</th>\n",
       "      <td>4.0</td>\n",
       "    </tr>\n",
       "  </tbody>\n",
       "</table>\n",
       "</div>"
      ],
      "text/plain": [
       "            Fuel Consumption\n",
       "CO2 Rating                  \n",
       "1.0                     21.5\n",
       "2.0                     16.0\n",
       "3.0                     13.9\n",
       "4.0                     11.7\n",
       "5.0                      9.9\n",
       "6.0                      8.3\n",
       "7.0                      7.3\n",
       "8.0                      6.0\n",
       "9.0                      4.8\n",
       "10.0                     4.0"
      ]
     },
     "execution_count": 15,
     "metadata": {},
     "output_type": "execute_result"
    }
   ],
   "source": [
    "df[['Fuel Consumption','CO2 Rating']].groupby('CO2 Rating').median()"
   ]
  },
  {
   "cell_type": "code",
   "execution_count": 16,
   "id": "56471e18",
   "metadata": {
    "ExecuteTime": {
     "end_time": "2023-03-27T07:53:08.972789Z",
     "start_time": "2023-03-27T07:53:08.950330Z"
    },
    "id": "56471e18"
   },
   "outputs": [],
   "source": [
    "df['CO2 Rating'].fillna(0,inplace=True)\n",
    "new_ratting = []\n",
    "\n",
    "for fuel,co2 in zip(df['Fuel Consumption'], df['CO2 Rating']):\n",
    "    if co2==0:\n",
    "        if 20 <= fuel:\n",
    "            new_ratting.append(1)\n",
    "        elif 16.0 <= fuel < 20.0:\n",
    "            new_ratting.append(2) \n",
    "        elif 14.0 <= fuel < 16.0: \n",
    "            new_ratting.append(3)\n",
    "        elif 12.0 <= fuel < 14.0: \n",
    "            new_ratting.append(4)\n",
    "        elif 10.0 <= fuel < 12.0: \n",
    "            new_ratting.append(5)\n",
    "        elif 8.0 <= fuel < 10.0: \n",
    "            new_ratting.append(6)\n",
    "        elif 7.0 <= fuel < 8.0: \n",
    "            new_ratting.append(7)\n",
    "        elif 6.0 <= fuel < 7.0: \n",
    "            new_ratting.append(8)\n",
    "        elif 5.0 <= fuel < 6.0: \n",
    "            new_ratting.append(9)\n",
    "        elif fuel < 5.0: \n",
    "            new_ratting.append(10)            \n",
    "    else:\n",
    "        new_ratting.append(co2)\n",
    "        \n",
    "        \n",
    "df['CO2 Rating'] = new_ratting"
   ]
  },
  {
   "cell_type": "code",
   "execution_count": 17,
   "id": "f49176a4",
   "metadata": {
    "ExecuteTime": {
     "end_time": "2023-03-27T07:53:09.810717Z",
     "start_time": "2023-03-27T07:53:09.790770Z"
    },
    "id": "f49176a4",
    "outputId": "4a5d36d1-6bf8-421c-dbad-173bdf804ab4"
   },
   "outputs": [
    {
     "data": {
      "text/plain": [
       "Vehicle Class       0\n",
       "Engine Size         0\n",
       "Cylinders           0\n",
       "Transmission        0\n",
       "Fuel Type           0\n",
       "Fuel Consumption    0\n",
       "CO2 Rating          0\n",
       "dtype: int64"
      ]
     },
     "execution_count": 17,
     "metadata": {},
     "output_type": "execute_result"
    }
   ],
   "source": [
    "df.isna().sum()"
   ]
  },
  {
   "cell_type": "markdown",
   "id": "dd46f223",
   "metadata": {
    "id": "dd46f223"
   },
   "source": [
    "## Checking the correlation"
   ]
  },
  {
   "cell_type": "code",
   "execution_count": 18,
   "id": "9821fe45",
   "metadata": {
    "ExecuteTime": {
     "end_time": "2023-03-27T07:53:12.082551Z",
     "start_time": "2023-03-27T07:53:12.070551Z"
    },
    "id": "9821fe45",
    "outputId": "fe00d8fb-ac65-4a33-a4aa-ce45966de7b3"
   },
   "outputs": [
    {
     "data": {
      "text/html": [
       "<div>\n",
       "<style scoped>\n",
       "    .dataframe tbody tr th:only-of-type {\n",
       "        vertical-align: middle;\n",
       "    }\n",
       "\n",
       "    .dataframe tbody tr th {\n",
       "        vertical-align: top;\n",
       "    }\n",
       "\n",
       "    .dataframe thead th {\n",
       "        text-align: right;\n",
       "    }\n",
       "</style>\n",
       "<table border=\"1\" class=\"dataframe\">\n",
       "  <thead>\n",
       "    <tr style=\"text-align: right;\">\n",
       "      <th></th>\n",
       "      <th>Engine Size</th>\n",
       "      <th>Cylinders</th>\n",
       "      <th>Fuel Consumption</th>\n",
       "      <th>CO2 Rating</th>\n",
       "    </tr>\n",
       "  </thead>\n",
       "  <tbody>\n",
       "    <tr>\n",
       "      <th>Engine Size</th>\n",
       "      <td>1.000000</td>\n",
       "      <td>0.920672</td>\n",
       "      <td>0.818655</td>\n",
       "      <td>-0.766032</td>\n",
       "    </tr>\n",
       "    <tr>\n",
       "      <th>Cylinders</th>\n",
       "      <td>0.920672</td>\n",
       "      <td>1.000000</td>\n",
       "      <td>0.821719</td>\n",
       "      <td>-0.761408</td>\n",
       "    </tr>\n",
       "    <tr>\n",
       "      <th>Fuel Consumption</th>\n",
       "      <td>0.818655</td>\n",
       "      <td>0.821719</td>\n",
       "      <td>1.000000</td>\n",
       "      <td>-0.927449</td>\n",
       "    </tr>\n",
       "    <tr>\n",
       "      <th>CO2 Rating</th>\n",
       "      <td>-0.766032</td>\n",
       "      <td>-0.761408</td>\n",
       "      <td>-0.927449</td>\n",
       "      <td>1.000000</td>\n",
       "    </tr>\n",
       "  </tbody>\n",
       "</table>\n",
       "</div>"
      ],
      "text/plain": [
       "                  Engine Size  Cylinders  Fuel Consumption  CO2 Rating\n",
       "Engine Size          1.000000   0.920672          0.818655   -0.766032\n",
       "Cylinders            0.920672   1.000000          0.821719   -0.761408\n",
       "Fuel Consumption     0.818655   0.821719          1.000000   -0.927449\n",
       "CO2 Rating          -0.766032  -0.761408         -0.927449    1.000000"
      ]
     },
     "execution_count": 18,
     "metadata": {},
     "output_type": "execute_result"
    }
   ],
   "source": [
    "df.corr()"
   ]
  },
  {
   "cell_type": "markdown",
   "id": "670cf35e",
   "metadata": {
    "id": "670cf35e"
   },
   "source": [
    "**Checking Corelation of each feature against target variable**"
   ]
  },
  {
   "cell_type": "code",
   "execution_count": 19,
   "id": "16b76ed5",
   "metadata": {
    "ExecuteTime": {
     "end_time": "2023-03-27T07:53:14.595163Z",
     "start_time": "2023-03-27T07:53:14.574216Z"
    },
    "id": "16b76ed5",
    "outputId": "69c93b63-1bb8-4991-9d01-f69839895c89"
   },
   "outputs": [
    {
     "data": {
      "text/html": [
       "<div>\n",
       "<style scoped>\n",
       "    .dataframe tbody tr th:only-of-type {\n",
       "        vertical-align: middle;\n",
       "    }\n",
       "\n",
       "    .dataframe tbody tr th {\n",
       "        vertical-align: top;\n",
       "    }\n",
       "\n",
       "    .dataframe thead th {\n",
       "        text-align: right;\n",
       "    }\n",
       "</style>\n",
       "<table border=\"1\" class=\"dataframe\">\n",
       "  <thead>\n",
       "    <tr style=\"text-align: right;\">\n",
       "      <th></th>\n",
       "      <th>Fuel Consumption</th>\n",
       "    </tr>\n",
       "  </thead>\n",
       "  <tbody>\n",
       "    <tr>\n",
       "      <th>Engine Size</th>\n",
       "      <td>0.818655</td>\n",
       "    </tr>\n",
       "    <tr>\n",
       "      <th>Cylinders</th>\n",
       "      <td>0.821719</td>\n",
       "    </tr>\n",
       "    <tr>\n",
       "      <th>Fuel Consumption</th>\n",
       "      <td>1.000000</td>\n",
       "    </tr>\n",
       "    <tr>\n",
       "      <th>CO2 Rating</th>\n",
       "      <td>-0.927449</td>\n",
       "    </tr>\n",
       "  </tbody>\n",
       "</table>\n",
       "</div>"
      ],
      "text/plain": [
       "                  Fuel Consumption\n",
       "Engine Size               0.818655\n",
       "Cylinders                 0.821719\n",
       "Fuel Consumption          1.000000\n",
       "CO2 Rating               -0.927449"
      ]
     },
     "execution_count": 19,
     "metadata": {},
     "output_type": "execute_result"
    }
   ],
   "source": [
    "df.corr()[\"Fuel Consumption\"].to_frame()"
   ]
  },
  {
   "cell_type": "markdown",
   "id": "850f25e3",
   "metadata": {
    "id": "850f25e3"
   },
   "source": [
    "## Looking for noise in all the features, including Target variable."
   ]
  },
  {
   "cell_type": "markdown",
   "id": "7f610e35",
   "metadata": {},
   "source": [
    "<a href=\"#report\"><button>REPORT CONTENT</button></a>"
   ]
  },
  {
   "cell_type": "code",
   "execution_count": 20,
   "id": "2412b4eb",
   "metadata": {
    "ExecuteTime": {
     "end_time": "2023-03-27T07:53:16.932053Z",
     "start_time": "2023-03-27T07:53:16.919103Z"
    },
    "id": "2412b4eb",
    "outputId": "7ae8807e-bb9f-42ad-c8ba-af9e6ae784f4",
    "scrolled": true
   },
   "outputs": [
    {
     "name": "stdout",
     "output_type": "stream",
     "text": [
      "Vehicle Class\n",
      "['Compact' 'SUV: Small' 'Mid-size' 'Minicompact' 'SUV: Standard'\n",
      " 'Two-seater' 'Subcompact' 'Station wagon: Small'\n",
      " 'Station wagon: Mid-size' 'Full-size' 'Pickup truck: Small'\n",
      " 'Pickup truck: Standard' 'Minivan' 'Special purpose vehicle'] \n",
      "\n",
      "Engine Size\n",
      "[2.4 3.5 2.  3.  2.9 4.  5.2 2.5 6.  4.4 6.6 8.  3.6 1.4 1.2 1.3 2.7 6.2\n",
      " 2.8 1.5 5.3 5.7 6.4 2.3 3.3 5.  1.8 1.6 3.8 5.6 3.2 6.5 4.6 3.4 3.7 6.7] \n",
      "\n",
      "Cylinders\n",
      "[ 4  6  8 12 10  5 16  3] \n",
      "\n",
      "Transmission\n",
      "['AM8' 'AS10' 'A8' 'A9' 'AM7' 'AS8' 'M6' 'AS6' 'AV' 'AS9' 'A10' 'A6' 'M5'\n",
      " 'M7' 'AV7' 'AV1' 'AM6' 'AS7' 'AV8' 'AV6' 'AV10' 'AS5' 'A7'] \n",
      "\n",
      "Fuel Type\n",
      "['Z' 'X' 'D' 'E'] \n",
      "\n",
      "Fuel Consumption\n",
      "[ 8.6 11.2  9.9 10.3  9.8 11.   8.7  9.2 11.6  9.3  9.6 12.3 11.5 13.8\n",
      " 14.6  7.6  8.2  8.8  8.9  9.1 10.  10.6  9.4 10.8 11.7 15.3 11.4 13.7\n",
      " 13.5 15.4  9.7 10.9 13.9 10.1  9.  13.2 16.3 12.2 16.2 12.5 17.  16.\n",
      "  8.3 12.  12.6 12.7 12.9 15.1 10.4 15.7 11.1  8.5 22.2 26.1 11.8  7.8\n",
      "  7.9  9.5 10.2 13.  10.7 14.8 15.2 10.5 14.7 14.9 11.3 12.1 14.1  8.4\n",
      "  7.5 14.5 19.1 13.4 13.1 14.  19.5 21.5 14.4 15.5 15.  16.4  7.   7.2\n",
      " 14.3 15.6 12.4  5.8  5.9 12.8 17.9 17.4 18.1 17.8 15.8 13.3 16.7  6.3\n",
      " 13.6  5.   5.5  7.1  8.   6.9  7.7  8.1  6.7  6.4  4.4  4.2  4.   7.4\n",
      " 16.5  4.6  5.3  6.6 11.9 21.2 16.9  6.   7.3  6.2  6.5 14.2 19.8  4.9\n",
      "  5.1  6.8  4.5  4.8  6.1] \n",
      "\n",
      "CO2 Rating\n",
      "[ 6.  4.  5.  3.  7.  2.  1.  8.  9. 10.] \n",
      "\n"
     ]
    }
   ],
   "source": [
    "for i in df.columns:\n",
    "    print(i)\n",
    "    print(df[i].unique(),'\\n')"
   ]
  },
  {
   "cell_type": "markdown",
   "id": "afc7d63c",
   "metadata": {
    "id": "afc7d63c"
   },
   "source": [
    "## Removed the Numbers from Transmission columns"
   ]
  },
  {
   "cell_type": "code",
   "execution_count": 21,
   "id": "71206f73",
   "metadata": {
    "ExecuteTime": {
     "end_time": "2023-03-27T07:53:18.497293Z",
     "start_time": "2023-03-27T07:53:18.470853Z"
    },
    "id": "71206f73",
    "outputId": "c83ec934-b19b-4a44-96ed-958b16932090",
    "scrolled": true
   },
   "outputs": [
    {
     "data": {
      "text/html": [
       "<div>\n",
       "<style scoped>\n",
       "    .dataframe tbody tr th:only-of-type {\n",
       "        vertical-align: middle;\n",
       "    }\n",
       "\n",
       "    .dataframe tbody tr th {\n",
       "        vertical-align: top;\n",
       "    }\n",
       "\n",
       "    .dataframe thead th {\n",
       "        text-align: right;\n",
       "    }\n",
       "</style>\n",
       "<table border=\"1\" class=\"dataframe\">\n",
       "  <thead>\n",
       "    <tr style=\"text-align: right;\">\n",
       "      <th></th>\n",
       "      <th>Vehicle Class</th>\n",
       "      <th>Engine Size</th>\n",
       "      <th>Cylinders</th>\n",
       "      <th>Transmission</th>\n",
       "      <th>Fuel Type</th>\n",
       "      <th>Fuel Consumption</th>\n",
       "      <th>CO2 Rating</th>\n",
       "    </tr>\n",
       "  </thead>\n",
       "  <tbody>\n",
       "    <tr>\n",
       "      <th>0</th>\n",
       "      <td>Compact</td>\n",
       "      <td>2.4</td>\n",
       "      <td>4</td>\n",
       "      <td>AM</td>\n",
       "      <td>Z</td>\n",
       "      <td>8.6</td>\n",
       "      <td>6.0</td>\n",
       "    </tr>\n",
       "    <tr>\n",
       "      <th>1</th>\n",
       "      <td>SUV: Small</td>\n",
       "      <td>3.5</td>\n",
       "      <td>6</td>\n",
       "      <td>AS</td>\n",
       "      <td>Z</td>\n",
       "      <td>11.2</td>\n",
       "      <td>4.0</td>\n",
       "    </tr>\n",
       "    <tr>\n",
       "      <th>2</th>\n",
       "      <td>SUV: Small</td>\n",
       "      <td>2.0</td>\n",
       "      <td>4</td>\n",
       "      <td>AS</td>\n",
       "      <td>Z</td>\n",
       "      <td>9.9</td>\n",
       "      <td>5.0</td>\n",
       "    </tr>\n",
       "    <tr>\n",
       "      <th>3</th>\n",
       "      <td>SUV: Small</td>\n",
       "      <td>2.0</td>\n",
       "      <td>4</td>\n",
       "      <td>AS</td>\n",
       "      <td>Z</td>\n",
       "      <td>10.3</td>\n",
       "      <td>5.0</td>\n",
       "    </tr>\n",
       "    <tr>\n",
       "      <th>4</th>\n",
       "      <td>Compact</td>\n",
       "      <td>2.0</td>\n",
       "      <td>4</td>\n",
       "      <td>AS</td>\n",
       "      <td>Z</td>\n",
       "      <td>9.8</td>\n",
       "      <td>5.0</td>\n",
       "    </tr>\n",
       "    <tr>\n",
       "      <th>...</th>\n",
       "      <td>...</td>\n",
       "      <td>...</td>\n",
       "      <td>...</td>\n",
       "      <td>...</td>\n",
       "      <td>...</td>\n",
       "      <td>...</td>\n",
       "      <td>...</td>\n",
       "    </tr>\n",
       "    <tr>\n",
       "      <th>940</th>\n",
       "      <td>SUV: Small</td>\n",
       "      <td>2.0</td>\n",
       "      <td>4</td>\n",
       "      <td>AS</td>\n",
       "      <td>Z</td>\n",
       "      <td>9.4</td>\n",
       "      <td>5.0</td>\n",
       "    </tr>\n",
       "    <tr>\n",
       "      <th>941</th>\n",
       "      <td>SUV: Small</td>\n",
       "      <td>2.0</td>\n",
       "      <td>4</td>\n",
       "      <td>AS</td>\n",
       "      <td>Z</td>\n",
       "      <td>9.4</td>\n",
       "      <td>5.0</td>\n",
       "    </tr>\n",
       "    <tr>\n",
       "      <th>942</th>\n",
       "      <td>SUV: Small</td>\n",
       "      <td>2.0</td>\n",
       "      <td>4</td>\n",
       "      <td>AS</td>\n",
       "      <td>Z</td>\n",
       "      <td>9.9</td>\n",
       "      <td>5.0</td>\n",
       "    </tr>\n",
       "    <tr>\n",
       "      <th>943</th>\n",
       "      <td>SUV: Standard</td>\n",
       "      <td>2.0</td>\n",
       "      <td>4</td>\n",
       "      <td>AS</td>\n",
       "      <td>Z</td>\n",
       "      <td>10.1</td>\n",
       "      <td>5.0</td>\n",
       "    </tr>\n",
       "    <tr>\n",
       "      <th>944</th>\n",
       "      <td>SUV: Standard</td>\n",
       "      <td>2.0</td>\n",
       "      <td>4</td>\n",
       "      <td>AS</td>\n",
       "      <td>Z</td>\n",
       "      <td>10.8</td>\n",
       "      <td>5.0</td>\n",
       "    </tr>\n",
       "  </tbody>\n",
       "</table>\n",
       "<p>945 rows × 7 columns</p>\n",
       "</div>"
      ],
      "text/plain": [
       "     Vehicle Class  Engine Size  Cylinders Transmission Fuel Type  \\\n",
       "0          Compact          2.4          4           AM         Z   \n",
       "1       SUV: Small          3.5          6           AS         Z   \n",
       "2       SUV: Small          2.0          4           AS         Z   \n",
       "3       SUV: Small          2.0          4           AS         Z   \n",
       "4          Compact          2.0          4           AS         Z   \n",
       "..             ...          ...        ...          ...       ...   \n",
       "940     SUV: Small          2.0          4           AS         Z   \n",
       "941     SUV: Small          2.0          4           AS         Z   \n",
       "942     SUV: Small          2.0          4           AS         Z   \n",
       "943  SUV: Standard          2.0          4           AS         Z   \n",
       "944  SUV: Standard          2.0          4           AS         Z   \n",
       "\n",
       "     Fuel Consumption  CO2 Rating  \n",
       "0                 8.6         6.0  \n",
       "1                11.2         4.0  \n",
       "2                 9.9         5.0  \n",
       "3                10.3         5.0  \n",
       "4                 9.8         5.0  \n",
       "..                ...         ...  \n",
       "940               9.4         5.0  \n",
       "941               9.4         5.0  \n",
       "942               9.9         5.0  \n",
       "943              10.1         5.0  \n",
       "944              10.8         5.0  \n",
       "\n",
       "[945 rows x 7 columns]"
      ]
     },
     "execution_count": 21,
     "metadata": {},
     "output_type": "execute_result"
    }
   ],
   "source": [
    "df = df.replace({'Transmission' : {'AM8':'AM', 'AS10': 'AS', 'A8':'A', 'A9':'A', 'AM7':'AM', 'AS8':'AS', 'M6':'M',\\\n",
    "                                   'AS6':'AS', 'AS9':'AS', 'A10':'A', 'A6':'A', 'M5':'M', 'M7':'M', 'AV7':'AV', 'AV1':'AV', 'AM6':'AM', 'AS7':'AS', 'AV8':'AV', 'AV6':'AV', 'AV10':'AV', 'AS5':'AS', 'A7':'A'}})\n",
    "df"
   ]
  },
  {
   "cell_type": "code",
   "execution_count": 22,
   "id": "37529fd4",
   "metadata": {
    "ExecuteTime": {
     "end_time": "2023-03-27T07:53:20.652155Z",
     "start_time": "2023-03-27T07:53:20.639190Z"
    },
    "id": "37529fd4",
    "outputId": "2ad59922-7ea3-4342-eedc-ebc22c191708"
   },
   "outputs": [
    {
     "data": {
      "text/plain": [
       "array(['AM', 'AS', 'A', 'M', 'AV'], dtype=object)"
      ]
     },
     "execution_count": 22,
     "metadata": {},
     "output_type": "execute_result"
    }
   ],
   "source": [
    "df['Transmission'].unique()"
   ]
  },
  {
   "cell_type": "markdown",
   "id": "266391f3",
   "metadata": {
    "id": "266391f3"
   },
   "source": [
    "-----\n",
    "<center>\n",
    "<h1 style=\"font-size: 40px; font-family: serif;\">Exploratory Data Analysis (E.D.A.)</h1>\n",
    "</center>\n",
    "<span id=\"eda\"></span>\n",
    "\n",
    "---"
   ]
  },
  {
   "cell_type": "markdown",
   "id": "58b87d1f",
   "metadata": {},
   "source": [
    "<a href=\"#report\"><button>REPORT CONTENT</button></a>"
   ]
  },
  {
   "cell_type": "markdown",
   "id": "e3643f9c",
   "metadata": {
    "id": "e3643f9c"
   },
   "source": [
    "\n",
    "# 3. Univariate analysis:-\n",
    "<span id=\"univar\"></span>\n",
    "\n",
    "---"
   ]
  },
  {
   "cell_type": "markdown",
   "id": "4688c8d2",
   "metadata": {
    "id": "4688c8d2"
   },
   "source": [
    "## 3.1 Statistical Summary :\n",
    "<span id=\"mean\"></span>\n"
   ]
  },
  {
   "cell_type": "code",
   "execution_count": 23,
   "id": "6eeb8607",
   "metadata": {
    "ExecuteTime": {
     "end_time": "2023-03-27T07:53:23.090817Z",
     "start_time": "2023-03-27T07:53:23.062388Z"
    },
    "id": "6eeb8607",
    "outputId": "2e5113af-3c1f-4a15-e3d2-e176cef1b6eb"
   },
   "outputs": [
    {
     "data": {
      "text/html": [
       "<div>\n",
       "<style scoped>\n",
       "    .dataframe tbody tr th:only-of-type {\n",
       "        vertical-align: middle;\n",
       "    }\n",
       "\n",
       "    .dataframe tbody tr th {\n",
       "        vertical-align: top;\n",
       "    }\n",
       "\n",
       "    .dataframe thead th {\n",
       "        text-align: right;\n",
       "    }\n",
       "</style>\n",
       "<table border=\"1\" class=\"dataframe\">\n",
       "  <thead>\n",
       "    <tr style=\"text-align: right;\">\n",
       "      <th></th>\n",
       "      <th>Engine Size</th>\n",
       "      <th>Cylinders</th>\n",
       "      <th>Fuel Consumption</th>\n",
       "      <th>CO2 Rating</th>\n",
       "    </tr>\n",
       "  </thead>\n",
       "  <tbody>\n",
       "    <tr>\n",
       "      <th>count</th>\n",
       "      <td>945.000000</td>\n",
       "      <td>945.000000</td>\n",
       "      <td>945.000000</td>\n",
       "      <td>945.000000</td>\n",
       "    </tr>\n",
       "    <tr>\n",
       "      <th>mean</th>\n",
       "      <td>3.199683</td>\n",
       "      <td>5.669841</td>\n",
       "      <td>11.093439</td>\n",
       "      <td>4.542857</td>\n",
       "    </tr>\n",
       "    <tr>\n",
       "      <th>std</th>\n",
       "      <td>1.375231</td>\n",
       "      <td>1.932930</td>\n",
       "      <td>2.877491</td>\n",
       "      <td>1.471665</td>\n",
       "    </tr>\n",
       "    <tr>\n",
       "      <th>min</th>\n",
       "      <td>1.200000</td>\n",
       "      <td>3.000000</td>\n",
       "      <td>4.000000</td>\n",
       "      <td>1.000000</td>\n",
       "    </tr>\n",
       "    <tr>\n",
       "      <th>25%</th>\n",
       "      <td>2.000000</td>\n",
       "      <td>4.000000</td>\n",
       "      <td>9.100000</td>\n",
       "      <td>3.000000</td>\n",
       "    </tr>\n",
       "    <tr>\n",
       "      <th>50%</th>\n",
       "      <td>3.000000</td>\n",
       "      <td>6.000000</td>\n",
       "      <td>10.800000</td>\n",
       "      <td>5.000000</td>\n",
       "    </tr>\n",
       "    <tr>\n",
       "      <th>75%</th>\n",
       "      <td>3.800000</td>\n",
       "      <td>6.000000</td>\n",
       "      <td>12.900000</td>\n",
       "      <td>5.000000</td>\n",
       "    </tr>\n",
       "    <tr>\n",
       "      <th>max</th>\n",
       "      <td>8.000000</td>\n",
       "      <td>16.000000</td>\n",
       "      <td>26.100000</td>\n",
       "      <td>10.000000</td>\n",
       "    </tr>\n",
       "  </tbody>\n",
       "</table>\n",
       "</div>"
      ],
      "text/plain": [
       "       Engine Size   Cylinders  Fuel Consumption  CO2 Rating\n",
       "count   945.000000  945.000000        945.000000  945.000000\n",
       "mean      3.199683    5.669841         11.093439    4.542857\n",
       "std       1.375231    1.932930          2.877491    1.471665\n",
       "min       1.200000    3.000000          4.000000    1.000000\n",
       "25%       2.000000    4.000000          9.100000    3.000000\n",
       "50%       3.000000    6.000000         10.800000    5.000000\n",
       "75%       3.800000    6.000000         12.900000    5.000000\n",
       "max       8.000000   16.000000         26.100000   10.000000"
      ]
     },
     "execution_count": 23,
     "metadata": {},
     "output_type": "execute_result"
    }
   ],
   "source": [
    "df[['Engine Size','Cylinders','Fuel Consumption','CO2 Rating']].describe()"
   ]
  },
  {
   "cell_type": "markdown",
   "id": "06a92d21",
   "metadata": {
    "id": "06a92d21"
   },
   "source": [
    "## 3.2 Frequency Distribution for the categorical Columns\n",
    "<span id=\"distribute\"></span>\n"
   ]
  },
  {
   "cell_type": "code",
   "execution_count": 24,
   "id": "3a0005e8",
   "metadata": {
    "ExecuteTime": {
     "end_time": "2023-03-27T07:53:29.420654Z",
     "start_time": "2023-03-27T07:53:29.246579Z"
    },
    "id": "3a0005e8",
    "outputId": "008cdbe6-e419-41fc-86d2-891a323d8fbc",
    "scrolled": false
   },
   "outputs": [
    {
     "data": {
      "image/png": "[encoded data removed]",
      "text/plain": [
       "<Figure size 1950x900 with 1 Axes>"
      ]
     },
     "metadata": {
      "needs_background": "light"
     },
     "output_type": "display_data"
    }
   ],
   "source": [
    "plt.figure(figsize=(13,6), dpi=150)\n",
    "chart1=sns.histplot(data=df, x='Transmission', color='DarkOliveGreen')\n",
    "chart1.bar_label(chart1.containers[0],size=10)\n",
    "plt.show()"
   ]
  },
  {
   "cell_type": "code",
   "execution_count": 25,
   "id": "2d795297",
   "metadata": {
    "ExecuteTime": {
     "end_time": "2023-03-27T07:53:30.666708Z",
     "start_time": "2023-03-27T07:53:30.559479Z"
    },
    "scrolled": false
   },
   "outputs": [
    {
     "data": {
      "image/png": "[encoded data removed]",
      "text/plain": [
       "<Figure size 750x600 with 1 Axes>"
      ]
     },
     "metadata": {
      "needs_background": "light"
     },
     "output_type": "display_data"
    }
   ],
   "source": [
    "plt.figure(figsize=(5,4), dpi=150)\n",
    "chart1=sns.histplot(data=df, x='Fuel Type', color='PaleVioletRed')\n",
    "chart1.bar_label(chart1.containers[0],size=10)\n",
    "plt.show()"
   ]
  },
  {
   "cell_type": "markdown",
   "id": "41aba91c",
   "metadata": {
    "id": "41aba91c"
   },
   "source": [
    "## 3.3 Frequency Distribution on Numerical columns\n",
    "<span id=\"numerical\"></span>\n"
   ]
  },
  {
   "cell_type": "markdown",
   "id": "24499620",
   "metadata": {},
   "source": [
    "<a href=\"#report\"><button>REPORT CONTENT</button></a>"
   ]
  },
  {
   "cell_type": "code",
   "execution_count": 26,
   "id": "e02ac473",
   "metadata": {
    "ExecuteTime": {
     "end_time": "2023-03-27T07:53:33.617243Z",
     "start_time": "2023-03-27T07:53:32.759103Z"
    },
    "id": "e02ac473",
    "outputId": "1aeb4350-081f-416a-ede3-8c4c56b76f4a",
    "scrolled": false
   },
   "outputs": [
    {
     "data": {
      "image/png": "[encoded data removed]",
      "text/plain": [
       "<Figure size 1950x900 with 1 Axes>"
      ]
     },
     "metadata": {
      "needs_background": "light"
     },
     "output_type": "display_data"
    },
    {
     "data": {
      "image/png": "[encoded data removed]",
      "text/plain": [
       "<Figure size 1950x900 with 1 Axes>"
      ]
     },
     "metadata": {
      "needs_background": "light"
     },
     "output_type": "display_data"
    },
    {
     "data": {
      "image/png": "[encoded data removed]",
      "text/plain": [
       "<Figure size 1950x900 with 1 Axes>"
      ]
     },
     "metadata": {
      "needs_background": "light"
     },
     "output_type": "display_data"
    },
    {
     "data": {
      "image/png": "[encoded data removed]",
      "text/plain": [
       "<Figure size 1950x900 with 1 Axes>"
      ]
     },
     "metadata": {
      "needs_background": "light"
     },
     "output_type": "display_data"
    }
   ],
   "source": [
    "column_set = ['Cylinders','Engine Size','CO2 Rating','Fuel Consumption']\n",
    "color_set = ['grey','brown','Thistle', 'SaddleBrown']\n",
    "for colors,col in zip(color_set,column_set):\n",
    "    plt.figure(figsize=(13,6), dpi=150)\n",
    "    chart1=sns.histplot(data=df, x=col, color=colors)\n",
    "    chart1.bar_label(chart1.containers[0],size=12)\n",
    "    plt.show()"
   ]
  },
  {
   "cell_type": "markdown",
   "id": "1fcb4ea6",
   "metadata": {
    "id": "1fcb4ea6"
   },
   "source": [
    "---\n",
    "# 4 Bivariate analysis\n",
    "<span id=\"bivariate\"></span>\n",
    "\n",
    "---"
   ]
  },
  {
   "cell_type": "markdown",
   "id": "1314ee39",
   "metadata": {},
   "source": [
    "<a href=\"#report\"><button>REPORT CONTENT</button></a>"
   ]
  },
  {
   "cell_type": "markdown",
   "id": "7341c387",
   "metadata": {
    "id": "7341c387"
   },
   "source": [
    "## 4.1 Comparison Between all columns\n",
    "<span id=\"compare\"></span>\n"
   ]
  },
  {
   "cell_type": "code",
   "execution_count": 458,
   "id": "3ddb9eb4",
   "metadata": {
    "ExecuteTime": {
     "end_time": "2023-03-22T09:48:00.806974Z",
     "start_time": "2023-03-22T09:47:56.593608Z"
    },
    "id": "3ddb9eb4",
    "outputId": "44d02e89-e105-43f3-ed97-b0e35d549646",
    "scrolled": false
   },
   "outputs": [
    {
     "data": {
      "text/plain": [
       "<seaborn.axisgrid.PairGrid at 0x21e77a1bd30>"
      ]
     },
     "execution_count": 458,
     "metadata": {},
     "output_type": "execute_result"
    },
    {
     "data": {
      "text/plain": [
       "<Figure size 1950x900 with 0 Axes>"
      ]
     },
     "metadata": {},
     "output_type": "display_data"
    },
    {
     "data": {
      "image/png": "[encoded data removed]",
      "text/plain": [
       "<Figure size 774.5x720 with 20 Axes>"
      ]
     },
     "metadata": {
      "needs_background": "light"
     },
     "output_type": "display_data"
    }
   ],
   "source": [
    "plt.figure(figsize=(13,6), dpi=150)\n",
    "sns.pairplot(df, hue='Fuel Type',diag_kind='hist')"
   ]
  },
  {
   "cell_type": "markdown",
   "id": "a8cecf81",
   "metadata": {
    "id": "a8cecf81"
   },
   "source": [
    "## 4.2 Comparison between \"No. of cylinders\" & \"Fuel consumption\"\n",
    "<span id=\"comparecylinder\"></span>\n"
   ]
  },
  {
   "cell_type": "code",
   "execution_count": 459,
   "id": "fc46b05c",
   "metadata": {
    "ExecuteTime": {
     "end_time": "2023-03-22T09:48:01.008286Z",
     "start_time": "2023-03-22T09:48:00.807974Z"
    },
    "id": "fc46b05c",
    "outputId": "981f8d55-e908-4972-bb42-a708d3147c67",
    "scrolled": false
   },
   "outputs": [
    {
     "data": {
      "image/png": "[encoded data removed]",
      "text/plain": [
       "<Figure size 1950x900 with 1 Axes>"
      ]
     },
     "metadata": {
      "needs_background": "light"
     },
     "output_type": "display_data"
    }
   ],
   "source": [
    "plt.figure(figsize=(13,6), dpi=150)\n",
    "plt.xticks(rotation=45)\n",
    "plt.title('Cylinders vs Consumption',size=20)\n",
    "chart1=sns.barplot( data=df, x=\"Cylinders\", y=\"Fuel Consumption\",palette='mako_r', ci=None)\n",
    "plt.xlabel('Cylinders',size=20)\n",
    "plt.ylabel('Fuel Consumption',size=20)\n",
    "chart1.bar_label(chart1.containers[0],size=12)\n",
    "plt.show()"
   ]
  },
  {
   "cell_type": "markdown",
   "id": "62e5ce80",
   "metadata": {
    "id": "62e5ce80"
   },
   "source": [
    "## 4.4 Heatmap showing \"Pearson correlation\" :\n",
    "<span id=\"heatcorr\"></span>\n"
   ]
  },
  {
   "cell_type": "code",
   "execution_count": 460,
   "id": "846b8c37",
   "metadata": {
    "ExecuteTime": {
     "end_time": "2023-03-22T09:48:01.257284Z",
     "start_time": "2023-03-22T09:48:01.009789Z"
    },
    "id": "846b8c37",
    "outputId": "44070421-7737-4bc7-c06a-e28195681831",
    "scrolled": false
   },
   "outputs": [
    {
     "data": {
      "text/plain": [
       "<AxesSubplot:>"
      ]
     },
     "execution_count": 460,
     "metadata": {},
     "output_type": "execute_result"
    },
    {
     "data": {
      "image/png": "[encoded data removed]",
      "text/plain": [
       "<Figure size 1950x900 with 2 Axes>"
      ]
     },
     "metadata": {
      "needs_background": "light"
     },
     "output_type": "display_data"
    }
   ],
   "source": [
    "plt.figure(figsize=(13,6), dpi=150)\n",
    "sns.heatmap(df.corr(),annot=True)"
   ]
  },
  {
   "cell_type": "markdown",
   "id": "6d77a2ee",
   "metadata": {
    "id": "6d77a2ee"
   },
   "source": [
    "# 5 Performing Chi Square analysis:-\n",
    "<span id=\"chi\"></span>\n"
   ]
  },
  {
   "cell_type": "markdown",
   "id": "31e0657e",
   "metadata": {},
   "source": [
    "<a href=\"#report\"><button>REPORT CONTENT</button></a>"
   ]
  },
  {
   "cell_type": "markdown",
   "id": "fcb047c7",
   "metadata": {
    "id": "fcb047c7"
   },
   "source": [
    "## 5.1 Transmission and Fuel Type:"
   ]
  },
  {
   "cell_type": "code",
   "execution_count": 461,
   "id": "8865c278",
   "metadata": {
    "ExecuteTime": {
     "end_time": "2023-03-22T09:48:01.289344Z",
     "start_time": "2023-03-22T09:48:01.263784Z"
    },
    "id": "8865c278"
   },
   "outputs": [],
   "source": [
    "# from scipy.stats import chi2_contingency\n",
    "fuel_type= pd.crosstab(df['Transmission'],df['Fuel Type'])"
   ]
  },
  {
   "cell_type": "code",
   "execution_count": 462,
   "id": "c0fa9d7f",
   "metadata": {
    "ExecuteTime": {
     "end_time": "2023-03-22T09:48:01.304831Z",
     "start_time": "2023-03-22T09:48:01.291344Z"
    },
    "id": "c0fa9d7f",
    "outputId": "862b3815-9e70-44cd-8f78-8bec1407c0df",
    "scrolled": true
   },
   "outputs": [
    {
     "data": {
      "text/html": [
       "<div>\n",
       "<style scoped>\n",
       "    .dataframe tbody tr th:only-of-type {\n",
       "        vertical-align: middle;\n",
       "    }\n",
       "\n",
       "    .dataframe tbody tr th {\n",
       "        vertical-align: top;\n",
       "    }\n",
       "\n",
       "    .dataframe thead th {\n",
       "        text-align: right;\n",
       "    }\n",
       "</style>\n",
       "<table border=\"1\" class=\"dataframe\">\n",
       "  <thead>\n",
       "    <tr style=\"text-align: right;\">\n",
       "      <th>Fuel Type</th>\n",
       "      <th>D</th>\n",
       "      <th>E</th>\n",
       "      <th>X</th>\n",
       "      <th>Z</th>\n",
       "    </tr>\n",
       "    <tr>\n",
       "      <th>Transmission</th>\n",
       "      <th></th>\n",
       "      <th></th>\n",
       "      <th></th>\n",
       "      <th></th>\n",
       "    </tr>\n",
       "  </thead>\n",
       "  <tbody>\n",
       "    <tr>\n",
       "      <th>A</th>\n",
       "      <td>28</td>\n",
       "      <td>6</td>\n",
       "      <td>141</td>\n",
       "      <td>87</td>\n",
       "    </tr>\n",
       "    <tr>\n",
       "      <th>AM</th>\n",
       "      <td>0</td>\n",
       "      <td>0</td>\n",
       "      <td>25</td>\n",
       "      <td>107</td>\n",
       "    </tr>\n",
       "    <tr>\n",
       "      <th>AS</th>\n",
       "      <td>0</td>\n",
       "      <td>8</td>\n",
       "      <td>150</td>\n",
       "      <td>207</td>\n",
       "    </tr>\n",
       "    <tr>\n",
       "      <th>AV</th>\n",
       "      <td>0</td>\n",
       "      <td>0</td>\n",
       "      <td>87</td>\n",
       "      <td>9</td>\n",
       "    </tr>\n",
       "    <tr>\n",
       "      <th>M</th>\n",
       "      <td>0</td>\n",
       "      <td>0</td>\n",
       "      <td>41</td>\n",
       "      <td>49</td>\n",
       "    </tr>\n",
       "  </tbody>\n",
       "</table>\n",
       "</div>"
      ],
      "text/plain": [
       "Fuel Type      D  E    X    Z\n",
       "Transmission                 \n",
       "A             28  6  141   87\n",
       "AM             0  0   25  107\n",
       "AS             0  8  150  207\n",
       "AV             0  0   87    9\n",
       "M              0  0   41   49"
      ]
     },
     "execution_count": 462,
     "metadata": {},
     "output_type": "execute_result"
    }
   ],
   "source": [
    "fuel_type"
   ]
  },
  {
   "cell_type": "code",
   "execution_count": 463,
   "id": "2c015328",
   "metadata": {
    "ExecuteTime": {
     "end_time": "2023-03-22T09:48:01.320441Z",
     "start_time": "2023-03-22T09:48:01.306828Z"
    },
    "id": "2c015328"
   },
   "outputs": [],
   "source": [
    "Chi_square_statistic,p,dof,expec = chi2_contingency(fuel_type)"
   ]
  },
  {
   "cell_type": "code",
   "execution_count": 464,
   "id": "f4a79d24",
   "metadata": {
    "ExecuteTime": {
     "end_time": "2023-03-22T09:48:01.335583Z",
     "start_time": "2023-03-22T09:48:01.321586Z"
    },
    "id": "f4a79d24",
    "outputId": "66177dee-2d73-4deb-d7b3-a6e1a69abbdc"
   },
   "outputs": [
    {
     "name": "stdout",
     "output_type": "stream",
     "text": [
      "p_value is 3.762904200058271e-41\n",
      "Dependent\n",
      "dof is 12\n"
     ]
    }
   ],
   "source": [
    "alpha = 0.05\n",
    "print(\"p_value is \" + str(p))\n",
    "if p <= alpha:\n",
    "    print('Dependent')\n",
    "    print('dof is ' +str(dof))\n",
    "else:\n",
    "    print('Independent')\n",
    "    print('dof is ' +str(dof))"
   ]
  },
  {
   "cell_type": "markdown",
   "id": "f794d978",
   "metadata": {
    "id": "f794d978"
   },
   "source": [
    "## 5.2 Transmission and Vehicle Class:"
   ]
  },
  {
   "cell_type": "code",
   "execution_count": 465,
   "id": "58b655b3",
   "metadata": {
    "ExecuteTime": {
     "end_time": "2023-03-22T09:48:01.351769Z",
     "start_time": "2023-03-22T09:48:01.337580Z"
    },
    "id": "58b655b3"
   },
   "outputs": [],
   "source": [
    "Class=pd.crosstab(df['Transmission'],df['Vehicle Class'])"
   ]
  },
  {
   "cell_type": "code",
   "execution_count": 466,
   "id": "68f4ada1",
   "metadata": {
    "ExecuteTime": {
     "end_time": "2023-03-22T09:48:01.367760Z",
     "start_time": "2023-03-22T09:48:01.353765Z"
    },
    "id": "68f4ada1",
    "outputId": "f53ede67-a552-4242-fd7a-c0c1b37784d4",
    "scrolled": true
   },
   "outputs": [
    {
     "data": {
      "text/html": [
       "<div>\n",
       "<style scoped>\n",
       "    .dataframe tbody tr th:only-of-type {\n",
       "        vertical-align: middle;\n",
       "    }\n",
       "\n",
       "    .dataframe tbody tr th {\n",
       "        vertical-align: top;\n",
       "    }\n",
       "\n",
       "    .dataframe thead th {\n",
       "        text-align: right;\n",
       "    }\n",
       "</style>\n",
       "<table border=\"1\" class=\"dataframe\">\n",
       "  <thead>\n",
       "    <tr style=\"text-align: right;\">\n",
       "      <th>Vehicle Class</th>\n",
       "      <th>Compact</th>\n",
       "      <th>Full-size</th>\n",
       "      <th>Mid-size</th>\n",
       "      <th>Minicompact</th>\n",
       "      <th>Minivan</th>\n",
       "      <th>Pickup truck: Small</th>\n",
       "      <th>Pickup truck: Standard</th>\n",
       "      <th>SUV: Small</th>\n",
       "      <th>SUV: Standard</th>\n",
       "      <th>Special purpose vehicle</th>\n",
       "      <th>Station wagon: Mid-size</th>\n",
       "      <th>Station wagon: Small</th>\n",
       "      <th>Subcompact</th>\n",
       "      <th>Two-seater</th>\n",
       "    </tr>\n",
       "    <tr>\n",
       "      <th>Transmission</th>\n",
       "      <th></th>\n",
       "      <th></th>\n",
       "      <th></th>\n",
       "      <th></th>\n",
       "      <th></th>\n",
       "      <th></th>\n",
       "      <th></th>\n",
       "      <th></th>\n",
       "      <th></th>\n",
       "      <th></th>\n",
       "      <th></th>\n",
       "      <th></th>\n",
       "      <th></th>\n",
       "      <th></th>\n",
       "    </tr>\n",
       "  </thead>\n",
       "  <tbody>\n",
       "    <tr>\n",
       "      <th>A</th>\n",
       "      <td>3</td>\n",
       "      <td>16</td>\n",
       "      <td>18</td>\n",
       "      <td>3</td>\n",
       "      <td>3</td>\n",
       "      <td>15</td>\n",
       "      <td>74</td>\n",
       "      <td>47</td>\n",
       "      <td>67</td>\n",
       "      <td>4</td>\n",
       "      <td>1</td>\n",
       "      <td>0</td>\n",
       "      <td>10</td>\n",
       "      <td>1</td>\n",
       "    </tr>\n",
       "    <tr>\n",
       "      <th>AM</th>\n",
       "      <td>8</td>\n",
       "      <td>18</td>\n",
       "      <td>12</td>\n",
       "      <td>25</td>\n",
       "      <td>0</td>\n",
       "      <td>1</td>\n",
       "      <td>0</td>\n",
       "      <td>16</td>\n",
       "      <td>0</td>\n",
       "      <td>0</td>\n",
       "      <td>2</td>\n",
       "      <td>8</td>\n",
       "      <td>16</td>\n",
       "      <td>26</td>\n",
       "    </tr>\n",
       "    <tr>\n",
       "      <th>AS</th>\n",
       "      <td>34</td>\n",
       "      <td>19</td>\n",
       "      <td>46</td>\n",
       "      <td>4</td>\n",
       "      <td>2</td>\n",
       "      <td>1</td>\n",
       "      <td>38</td>\n",
       "      <td>91</td>\n",
       "      <td>69</td>\n",
       "      <td>8</td>\n",
       "      <td>4</td>\n",
       "      <td>2</td>\n",
       "      <td>34</td>\n",
       "      <td>13</td>\n",
       "    </tr>\n",
       "    <tr>\n",
       "      <th>AV</th>\n",
       "      <td>11</td>\n",
       "      <td>9</td>\n",
       "      <td>22</td>\n",
       "      <td>0</td>\n",
       "      <td>2</td>\n",
       "      <td>1</td>\n",
       "      <td>0</td>\n",
       "      <td>36</td>\n",
       "      <td>5</td>\n",
       "      <td>0</td>\n",
       "      <td>1</td>\n",
       "      <td>7</td>\n",
       "      <td>2</td>\n",
       "      <td>0</td>\n",
       "    </tr>\n",
       "    <tr>\n",
       "      <th>M</th>\n",
       "      <td>13</td>\n",
       "      <td>2</td>\n",
       "      <td>19</td>\n",
       "      <td>16</td>\n",
       "      <td>0</td>\n",
       "      <td>2</td>\n",
       "      <td>1</td>\n",
       "      <td>7</td>\n",
       "      <td>0</td>\n",
       "      <td>0</td>\n",
       "      <td>0</td>\n",
       "      <td>2</td>\n",
       "      <td>17</td>\n",
       "      <td>11</td>\n",
       "    </tr>\n",
       "  </tbody>\n",
       "</table>\n",
       "</div>"
      ],
      "text/plain": [
       "Vehicle Class  Compact  Full-size  Mid-size  Minicompact  Minivan  \\\n",
       "Transmission                                                        \n",
       "A                    3         16        18            3        3   \n",
       "AM                   8         18        12           25        0   \n",
       "AS                  34         19        46            4        2   \n",
       "AV                  11          9        22            0        2   \n",
       "M                   13          2        19           16        0   \n",
       "\n",
       "Vehicle Class  Pickup truck: Small  Pickup truck: Standard  SUV: Small  \\\n",
       "Transmission                                                             \n",
       "A                               15                      74          47   \n",
       "AM                               1                       0          16   \n",
       "AS                               1                      38          91   \n",
       "AV                               1                       0          36   \n",
       "M                                2                       1           7   \n",
       "\n",
       "Vehicle Class  SUV: Standard  Special purpose vehicle  \\\n",
       "Transmission                                            \n",
       "A                         67                        4   \n",
       "AM                         0                        0   \n",
       "AS                        69                        8   \n",
       "AV                         5                        0   \n",
       "M                          0                        0   \n",
       "\n",
       "Vehicle Class  Station wagon: Mid-size  Station wagon: Small  Subcompact  \\\n",
       "Transmission                                                               \n",
       "A                                    1                     0          10   \n",
       "AM                                   2                     8          16   \n",
       "AS                                   4                     2          34   \n",
       "AV                                   1                     7           2   \n",
       "M                                    0                     2          17   \n",
       "\n",
       "Vehicle Class  Two-seater  \n",
       "Transmission               \n",
       "A                       1  \n",
       "AM                     26  \n",
       "AS                     13  \n",
       "AV                      0  \n",
       "M                      11  "
      ]
     },
     "execution_count": 466,
     "metadata": {},
     "output_type": "execute_result"
    }
   ],
   "source": [
    "Class"
   ]
  },
  {
   "cell_type": "code",
   "execution_count": 467,
   "id": "4aba7908",
   "metadata": {
    "ExecuteTime": {
     "end_time": "2023-03-22T09:48:01.383781Z",
     "start_time": "2023-03-22T09:48:01.369267Z"
    },
    "id": "4aba7908",
    "scrolled": true
   },
   "outputs": [],
   "source": [
    "Chi_square_statistic,p,dof,expec = chi2_contingency(Class)"
   ]
  },
  {
   "cell_type": "code",
   "execution_count": 468,
   "id": "979ebd7e",
   "metadata": {
    "ExecuteTime": {
     "end_time": "2023-03-22T09:48:01.399325Z",
     "start_time": "2023-03-22T09:48:01.386781Z"
    },
    "id": "979ebd7e",
    "outputId": "21d3e8b4-9ddc-4ea8-e984-e31d154ee5b7"
   },
   "outputs": [
    {
     "name": "stdout",
     "output_type": "stream",
     "text": [
      "p_value is 3.356375805194314e-79\n",
      "Dependent\n",
      "dof is 52\n"
     ]
    }
   ],
   "source": [
    "alpha = 0.05\n",
    "print(\"p_value is \" + str(p))\n",
    "if p <= alpha:\n",
    "    print('Dependent')\n",
    "    print('dof is ' +str(dof))\n",
    "else:\n",
    "    print('Independent')\n",
    "    print('dof is ' +str(dof))"
   ]
  },
  {
   "cell_type": "markdown",
   "id": "21f477fd",
   "metadata": {
    "id": "21f477fd"
   },
   "source": [
    "  "
   ]
  },
  {
   "cell_type": "markdown",
   "id": "992323c3",
   "metadata": {
    "id": "992323c3"
   },
   "source": [
    "-----\n",
    "<center>\n",
    "<h1 style=\"font-size: 40px; font-family: serif;\">5. Data Preprocessing</h1>\n",
    "</center>\n",
    "<span id=\"prepro\"></span>\n",
    "\n",
    "---"
   ]
  },
  {
   "cell_type": "markdown",
   "id": "e4e17c7a",
   "metadata": {
    "id": "e4e17c7a"
   },
   "source": [
    "\n",
    "# 5.1 Outlier analysis\n",
    "<span id=\"outlier\"></span>\n"
   ]
  },
  {
   "cell_type": "markdown",
   "id": "27cca301",
   "metadata": {},
   "source": [
    "<a href=\"#report\"><button>REPORT CONTENT</button></a>"
   ]
  },
  {
   "cell_type": "code",
   "execution_count": 469,
   "id": "7e62646b",
   "metadata": {
    "ExecuteTime": {
     "end_time": "2023-03-22T09:48:01.694157Z",
     "start_time": "2023-03-22T09:48:01.401747Z"
    },
    "id": "7e62646b",
    "outputId": "f03e77da-49fb-43cb-cedf-82bdc097f309",
    "scrolled": true
   },
   "outputs": [
    {
     "data": {
      "image/png": "[encoded data removed]",
      "text/plain": [
       "<Figure size 432x288 with 1 Axes>"
      ]
     },
     "metadata": {
      "needs_background": "light"
     },
     "output_type": "display_data"
    },
    {
     "data": {
      "image/png": "[encoded data removed]",
      "text/plain": [
       "<Figure size 432x288 with 1 Axes>"
      ]
     },
     "metadata": {
      "needs_background": "light"
     },
     "output_type": "display_data"
    },
    {
     "data": {
      "image/png": "[encoded data removed]",
      "text/plain": [
       "<Figure size 432x288 with 1 Axes>"
      ]
     },
     "metadata": {
      "needs_background": "light"
     },
     "output_type": "display_data"
    },
    {
     "data": {
      "image/png": "[encoded data removed]",
      "text/plain": [
       "<Figure size 432x288 with 1 Axes>"
      ]
     },
     "metadata": {
      "needs_background": "light"
     },
     "output_type": "display_data"
    }
   ],
   "source": [
    "for col in df.columns:\n",
    "    if df[col].dtypes!= object:\n",
    "        sns.boxplot(y=col,data=df)\n",
    "        plt.show()"
   ]
  },
  {
   "cell_type": "code",
   "execution_count": 470,
   "id": "1a057310",
   "metadata": {
    "ExecuteTime": {
     "end_time": "2023-03-22T09:48:02.047204Z",
     "start_time": "2023-03-22T09:48:01.696152Z"
    },
    "id": "1a057310",
    "outputId": "f3e80202-c0bc-4ae5-8cd3-c803fb388753",
    "scrolled": true
   },
   "outputs": [
    {
     "data": {
      "image/png": "[encoded data removed]",
      "text/plain": [
       "<Figure size 432x288 with 1 Axes>"
      ]
     },
     "metadata": {
      "needs_background": "light"
     },
     "output_type": "display_data"
    },
    {
     "data": {
      "image/png": "[encoded data removed]",
      "text/plain": [
       "<Figure size 432x288 with 1 Axes>"
      ]
     },
     "metadata": {
      "needs_background": "light"
     },
     "output_type": "display_data"
    },
    {
     "data": {
      "image/png": "[encoded data removed]",
      "text/plain": [
       "<Figure size 432x288 with 1 Axes>"
      ]
     },
     "metadata": {
      "needs_background": "light"
     },
     "output_type": "display_data"
    },
    {
     "data": {
      "image/png": "[encoded data removed]",
      "text/plain": [
       "<Figure size 432x288 with 1 Axes>"
      ]
     },
     "metadata": {
      "needs_background": "light"
     },
     "output_type": "display_data"
    }
   ],
   "source": [
    "for col in df.columns:\n",
    "    if df[col].dtypes!= object:\n",
    "        percentile_25=df[col].quantile(0.25)\n",
    "        percentile_75=df[col].quantile(0.75)\n",
    "        IQR=percentile_75-percentile_25\n",
    "        upper_limit=percentile_75+(1.5*IQR)\n",
    "        lower_limit=percentile_25-(1.5*IQR)\n",
    "        df=df[df[col]<=upper_limit]\n",
    "        df=df[df[col]>=lower_limit]\n",
    "        plt.figure()\n",
    "        sns.boxplot(y=col,data=df)"
   ]
  },
  {
   "cell_type": "code",
   "execution_count": 471,
   "id": "3f2026c2",
   "metadata": {
    "ExecuteTime": {
     "end_time": "2023-03-22T09:48:02.062776Z",
     "start_time": "2023-03-22T09:48:02.048200Z"
    },
    "id": "3f2026c2",
    "outputId": "6d2c8ab6-4e56-4429-dd31-1268303df391"
   },
   "outputs": [
    {
     "data": {
      "text/plain": [
       "(782, 7)"
      ]
     },
     "execution_count": 471,
     "metadata": {},
     "output_type": "execute_result"
    }
   ],
   "source": [
    "df.shape"
   ]
  },
  {
   "cell_type": "markdown",
   "id": "b523b4d8",
   "metadata": {
    "id": "b523b4d8"
   },
   "source": [
    "## 5.3 Ordinal encoding\n",
    "<span id=\"ordinal\"></span>\n"
   ]
  },
  {
   "cell_type": "markdown",
   "id": "21a066c4",
   "metadata": {},
   "source": [
    "<a href=\"#report\"><button>REPORT CONTENT</button></a>"
   ]
  },
  {
   "cell_type": "code",
   "execution_count": 472,
   "id": "90813a8f",
   "metadata": {
    "ExecuteTime": {
     "end_time": "2023-03-22T09:48:02.078310Z",
     "start_time": "2023-03-22T09:48:02.063774Z"
    },
    "id": "90813a8f"
   },
   "outputs": [],
   "source": [
    "# from sklearn.preprocessing import OneHotEncoder, OrdinalEncoder\n",
    "\n",
    "order = ['AV', 'AM', 'M', 'AS', 'A']\n",
    "\n",
    "od = OrdinalEncoder(categories = [order])\n",
    "\n",
    "df[\"Transmission_X\"] = od.fit_transform(df[[\"Transmission\"]])"
   ]
  },
  {
   "cell_type": "code",
   "execution_count": 473,
   "id": "ee71b250",
   "metadata": {
    "ExecuteTime": {
     "end_time": "2023-03-22T09:48:02.093674Z",
     "start_time": "2023-03-22T09:48:02.081815Z"
    },
    "id": "ee71b250"
   },
   "outputs": [],
   "source": [
    "order = ['Two-seater','Minicompact','Compact','Subcompact','Mid-size','Full-size','SUV: Small','SUV: Standard','Minivan',\\\n",
    "         'Station wagon: Small','Station wagon: Mid-size', 'Pickup truck: Small', 'Special purpose vehicle',\\\n",
    "         'Pickup truck: Standard']\n",
    "\n",
    "od = OrdinalEncoder(categories = [order])\n",
    "\n",
    "df[\"Vehicle Class_X\"] = od.fit_transform(df[[\"Vehicle Class\"]])"
   ]
  },
  {
   "cell_type": "code",
   "execution_count": 474,
   "id": "f0e1d781",
   "metadata": {
    "ExecuteTime": {
     "end_time": "2023-03-22T09:48:02.109181Z",
     "start_time": "2023-03-22T09:48:02.095669Z"
    }
   },
   "outputs": [
    {
     "data": {
      "text/html": [
       "<div>\n",
       "<style scoped>\n",
       "    .dataframe tbody tr th:only-of-type {\n",
       "        vertical-align: middle;\n",
       "    }\n",
       "\n",
       "    .dataframe tbody tr th {\n",
       "        vertical-align: top;\n",
       "    }\n",
       "\n",
       "    .dataframe thead th {\n",
       "        text-align: right;\n",
       "    }\n",
       "</style>\n",
       "<table border=\"1\" class=\"dataframe\">\n",
       "  <thead>\n",
       "    <tr style=\"text-align: right;\">\n",
       "      <th></th>\n",
       "      <th>Vehicle Class</th>\n",
       "      <th>Engine Size</th>\n",
       "      <th>Cylinders</th>\n",
       "      <th>Transmission</th>\n",
       "      <th>Fuel Type</th>\n",
       "      <th>Fuel Consumption</th>\n",
       "      <th>CO2 Rating</th>\n",
       "      <th>Transmission_X</th>\n",
       "      <th>Vehicle Class_X</th>\n",
       "    </tr>\n",
       "  </thead>\n",
       "  <tbody>\n",
       "    <tr>\n",
       "      <th>0</th>\n",
       "      <td>Compact</td>\n",
       "      <td>2.4</td>\n",
       "      <td>4</td>\n",
       "      <td>AM</td>\n",
       "      <td>Z</td>\n",
       "      <td>8.6</td>\n",
       "      <td>6.0</td>\n",
       "      <td>1.0</td>\n",
       "      <td>2.0</td>\n",
       "    </tr>\n",
       "    <tr>\n",
       "      <th>1</th>\n",
       "      <td>SUV: Small</td>\n",
       "      <td>3.5</td>\n",
       "      <td>6</td>\n",
       "      <td>AS</td>\n",
       "      <td>Z</td>\n",
       "      <td>11.2</td>\n",
       "      <td>4.0</td>\n",
       "      <td>3.0</td>\n",
       "      <td>6.0</td>\n",
       "    </tr>\n",
       "    <tr>\n",
       "      <th>2</th>\n",
       "      <td>SUV: Small</td>\n",
       "      <td>2.0</td>\n",
       "      <td>4</td>\n",
       "      <td>AS</td>\n",
       "      <td>Z</td>\n",
       "      <td>9.9</td>\n",
       "      <td>5.0</td>\n",
       "      <td>3.0</td>\n",
       "      <td>6.0</td>\n",
       "    </tr>\n",
       "    <tr>\n",
       "      <th>3</th>\n",
       "      <td>SUV: Small</td>\n",
       "      <td>2.0</td>\n",
       "      <td>4</td>\n",
       "      <td>AS</td>\n",
       "      <td>Z</td>\n",
       "      <td>10.3</td>\n",
       "      <td>5.0</td>\n",
       "      <td>3.0</td>\n",
       "      <td>6.0</td>\n",
       "    </tr>\n",
       "    <tr>\n",
       "      <th>4</th>\n",
       "      <td>Compact</td>\n",
       "      <td>2.0</td>\n",
       "      <td>4</td>\n",
       "      <td>AS</td>\n",
       "      <td>Z</td>\n",
       "      <td>9.8</td>\n",
       "      <td>5.0</td>\n",
       "      <td>3.0</td>\n",
       "      <td>2.0</td>\n",
       "    </tr>\n",
       "  </tbody>\n",
       "</table>\n",
       "</div>"
      ],
      "text/plain": [
       "  Vehicle Class  Engine Size  Cylinders Transmission Fuel Type  \\\n",
       "0       Compact          2.4          4           AM         Z   \n",
       "1    SUV: Small          3.5          6           AS         Z   \n",
       "2    SUV: Small          2.0          4           AS         Z   \n",
       "3    SUV: Small          2.0          4           AS         Z   \n",
       "4       Compact          2.0          4           AS         Z   \n",
       "\n",
       "   Fuel Consumption  CO2 Rating  Transmission_X  Vehicle Class_X  \n",
       "0               8.6         6.0             1.0              2.0  \n",
       "1              11.2         4.0             3.0              6.0  \n",
       "2               9.9         5.0             3.0              6.0  \n",
       "3              10.3         5.0             3.0              6.0  \n",
       "4               9.8         5.0             3.0              2.0  "
      ]
     },
     "execution_count": 474,
     "metadata": {},
     "output_type": "execute_result"
    }
   ],
   "source": [
    "df.head()"
   ]
  },
  {
   "cell_type": "markdown",
   "id": "46c04de3",
   "metadata": {
    "id": "46c04de3"
   },
   "source": [
    "## 5.4 One Hot encoding on categorical columns\n",
    "<span id=\"onehot\"></span>\n"
   ]
  },
  {
   "cell_type": "code",
   "execution_count": 475,
   "id": "c2acff81",
   "metadata": {
    "ExecuteTime": {
     "end_time": "2023-03-22T09:48:02.124336Z",
     "start_time": "2023-03-22T09:48:02.112201Z"
    }
   },
   "outputs": [],
   "source": [
    "new_df = df['Fuel Type'].str.get_dummies()"
   ]
  },
  {
   "cell_type": "code",
   "execution_count": 476,
   "id": "4098dca9",
   "metadata": {
    "ExecuteTime": {
     "end_time": "2023-03-22T09:48:02.140365Z",
     "start_time": "2023-03-22T09:48:02.125343Z"
    }
   },
   "outputs": [
    {
     "data": {
      "text/html": [
       "<div>\n",
       "<style scoped>\n",
       "    .dataframe tbody tr th:only-of-type {\n",
       "        vertical-align: middle;\n",
       "    }\n",
       "\n",
       "    .dataframe tbody tr th {\n",
       "        vertical-align: top;\n",
       "    }\n",
       "\n",
       "    .dataframe thead th {\n",
       "        text-align: right;\n",
       "    }\n",
       "</style>\n",
       "<table border=\"1\" class=\"dataframe\">\n",
       "  <thead>\n",
       "    <tr style=\"text-align: right;\">\n",
       "      <th></th>\n",
       "      <th>D</th>\n",
       "      <th>E</th>\n",
       "      <th>X</th>\n",
       "      <th>Z</th>\n",
       "    </tr>\n",
       "  </thead>\n",
       "  <tbody>\n",
       "    <tr>\n",
       "      <th>0</th>\n",
       "      <td>0</td>\n",
       "      <td>0</td>\n",
       "      <td>0</td>\n",
       "      <td>1</td>\n",
       "    </tr>\n",
       "    <tr>\n",
       "      <th>1</th>\n",
       "      <td>0</td>\n",
       "      <td>0</td>\n",
       "      <td>0</td>\n",
       "      <td>1</td>\n",
       "    </tr>\n",
       "    <tr>\n",
       "      <th>2</th>\n",
       "      <td>0</td>\n",
       "      <td>0</td>\n",
       "      <td>0</td>\n",
       "      <td>1</td>\n",
       "    </tr>\n",
       "    <tr>\n",
       "      <th>3</th>\n",
       "      <td>0</td>\n",
       "      <td>0</td>\n",
       "      <td>0</td>\n",
       "      <td>1</td>\n",
       "    </tr>\n",
       "    <tr>\n",
       "      <th>4</th>\n",
       "      <td>0</td>\n",
       "      <td>0</td>\n",
       "      <td>0</td>\n",
       "      <td>1</td>\n",
       "    </tr>\n",
       "    <tr>\n",
       "      <th>...</th>\n",
       "      <td>...</td>\n",
       "      <td>...</td>\n",
       "      <td>...</td>\n",
       "      <td>...</td>\n",
       "    </tr>\n",
       "    <tr>\n",
       "      <th>940</th>\n",
       "      <td>0</td>\n",
       "      <td>0</td>\n",
       "      <td>0</td>\n",
       "      <td>1</td>\n",
       "    </tr>\n",
       "    <tr>\n",
       "      <th>941</th>\n",
       "      <td>0</td>\n",
       "      <td>0</td>\n",
       "      <td>0</td>\n",
       "      <td>1</td>\n",
       "    </tr>\n",
       "    <tr>\n",
       "      <th>942</th>\n",
       "      <td>0</td>\n",
       "      <td>0</td>\n",
       "      <td>0</td>\n",
       "      <td>1</td>\n",
       "    </tr>\n",
       "    <tr>\n",
       "      <th>943</th>\n",
       "      <td>0</td>\n",
       "      <td>0</td>\n",
       "      <td>0</td>\n",
       "      <td>1</td>\n",
       "    </tr>\n",
       "    <tr>\n",
       "      <th>944</th>\n",
       "      <td>0</td>\n",
       "      <td>0</td>\n",
       "      <td>0</td>\n",
       "      <td>1</td>\n",
       "    </tr>\n",
       "  </tbody>\n",
       "</table>\n",
       "<p>782 rows × 4 columns</p>\n",
       "</div>"
      ],
      "text/plain": [
       "     D  E  X  Z\n",
       "0    0  0  0  1\n",
       "1    0  0  0  1\n",
       "2    0  0  0  1\n",
       "3    0  0  0  1\n",
       "4    0  0  0  1\n",
       "..  .. .. .. ..\n",
       "940  0  0  0  1\n",
       "941  0  0  0  1\n",
       "942  0  0  0  1\n",
       "943  0  0  0  1\n",
       "944  0  0  0  1\n",
       "\n",
       "[782 rows x 4 columns]"
      ]
     },
     "execution_count": 476,
     "metadata": {},
     "output_type": "execute_result"
    }
   ],
   "source": [
    "new_df"
   ]
  },
  {
   "cell_type": "code",
   "execution_count": 477,
   "id": "aa79ed69",
   "metadata": {
    "ExecuteTime": {
     "end_time": "2023-03-22T09:48:02.155180Z",
     "start_time": "2023-03-22T09:48:02.141685Z"
    }
   },
   "outputs": [],
   "source": [
    "df= pd.concat([df,new_df], axis =1)"
   ]
  },
  {
   "cell_type": "code",
   "execution_count": 478,
   "id": "b664e759",
   "metadata": {
    "ExecuteTime": {
     "end_time": "2023-03-22T09:48:02.185682Z",
     "start_time": "2023-03-22T09:48:02.159170Z"
    }
   },
   "outputs": [
    {
     "data": {
      "text/html": [
       "<div>\n",
       "<style scoped>\n",
       "    .dataframe tbody tr th:only-of-type {\n",
       "        vertical-align: middle;\n",
       "    }\n",
       "\n",
       "    .dataframe tbody tr th {\n",
       "        vertical-align: top;\n",
       "    }\n",
       "\n",
       "    .dataframe thead th {\n",
       "        text-align: right;\n",
       "    }\n",
       "</style>\n",
       "<table border=\"1\" class=\"dataframe\">\n",
       "  <thead>\n",
       "    <tr style=\"text-align: right;\">\n",
       "      <th></th>\n",
       "      <th>Vehicle Class</th>\n",
       "      <th>Engine Size</th>\n",
       "      <th>Cylinders</th>\n",
       "      <th>Transmission</th>\n",
       "      <th>Fuel Type</th>\n",
       "      <th>Fuel Consumption</th>\n",
       "      <th>CO2 Rating</th>\n",
       "      <th>Transmission_X</th>\n",
       "      <th>Vehicle Class_X</th>\n",
       "      <th>D</th>\n",
       "      <th>E</th>\n",
       "      <th>X</th>\n",
       "      <th>Z</th>\n",
       "    </tr>\n",
       "  </thead>\n",
       "  <tbody>\n",
       "    <tr>\n",
       "      <th>0</th>\n",
       "      <td>Compact</td>\n",
       "      <td>2.4</td>\n",
       "      <td>4</td>\n",
       "      <td>AM</td>\n",
       "      <td>Z</td>\n",
       "      <td>8.6</td>\n",
       "      <td>6.0</td>\n",
       "      <td>1.0</td>\n",
       "      <td>2.0</td>\n",
       "      <td>0</td>\n",
       "      <td>0</td>\n",
       "      <td>0</td>\n",
       "      <td>1</td>\n",
       "    </tr>\n",
       "    <tr>\n",
       "      <th>1</th>\n",
       "      <td>SUV: Small</td>\n",
       "      <td>3.5</td>\n",
       "      <td>6</td>\n",
       "      <td>AS</td>\n",
       "      <td>Z</td>\n",
       "      <td>11.2</td>\n",
       "      <td>4.0</td>\n",
       "      <td>3.0</td>\n",
       "      <td>6.0</td>\n",
       "      <td>0</td>\n",
       "      <td>0</td>\n",
       "      <td>0</td>\n",
       "      <td>1</td>\n",
       "    </tr>\n",
       "    <tr>\n",
       "      <th>2</th>\n",
       "      <td>SUV: Small</td>\n",
       "      <td>2.0</td>\n",
       "      <td>4</td>\n",
       "      <td>AS</td>\n",
       "      <td>Z</td>\n",
       "      <td>9.9</td>\n",
       "      <td>5.0</td>\n",
       "      <td>3.0</td>\n",
       "      <td>6.0</td>\n",
       "      <td>0</td>\n",
       "      <td>0</td>\n",
       "      <td>0</td>\n",
       "      <td>1</td>\n",
       "    </tr>\n",
       "    <tr>\n",
       "      <th>3</th>\n",
       "      <td>SUV: Small</td>\n",
       "      <td>2.0</td>\n",
       "      <td>4</td>\n",
       "      <td>AS</td>\n",
       "      <td>Z</td>\n",
       "      <td>10.3</td>\n",
       "      <td>5.0</td>\n",
       "      <td>3.0</td>\n",
       "      <td>6.0</td>\n",
       "      <td>0</td>\n",
       "      <td>0</td>\n",
       "      <td>0</td>\n",
       "      <td>1</td>\n",
       "    </tr>\n",
       "    <tr>\n",
       "      <th>4</th>\n",
       "      <td>Compact</td>\n",
       "      <td>2.0</td>\n",
       "      <td>4</td>\n",
       "      <td>AS</td>\n",
       "      <td>Z</td>\n",
       "      <td>9.8</td>\n",
       "      <td>5.0</td>\n",
       "      <td>3.0</td>\n",
       "      <td>2.0</td>\n",
       "      <td>0</td>\n",
       "      <td>0</td>\n",
       "      <td>0</td>\n",
       "      <td>1</td>\n",
       "    </tr>\n",
       "  </tbody>\n",
       "</table>\n",
       "</div>"
      ],
      "text/plain": [
       "  Vehicle Class  Engine Size  Cylinders Transmission Fuel Type  \\\n",
       "0       Compact          2.4          4           AM         Z   \n",
       "1    SUV: Small          3.5          6           AS         Z   \n",
       "2    SUV: Small          2.0          4           AS         Z   \n",
       "3    SUV: Small          2.0          4           AS         Z   \n",
       "4       Compact          2.0          4           AS         Z   \n",
       "\n",
       "   Fuel Consumption  CO2 Rating  Transmission_X  Vehicle Class_X  D  E  X  Z  \n",
       "0               8.6         6.0             1.0              2.0  0  0  0  1  \n",
       "1              11.2         4.0             3.0              6.0  0  0  0  1  \n",
       "2               9.9         5.0             3.0              6.0  0  0  0  1  \n",
       "3              10.3         5.0             3.0              6.0  0  0  0  1  \n",
       "4               9.8         5.0             3.0              2.0  0  0  0  1  "
      ]
     },
     "execution_count": 478,
     "metadata": {},
     "output_type": "execute_result"
    }
   ],
   "source": [
    "df.head()"
   ]
  },
  {
   "cell_type": "markdown",
   "id": "285a0dd1",
   "metadata": {
    "id": "285a0dd1"
   },
   "source": [
    "## 5.5 Split Into Train and Test \n",
    "<span id=\"traintest\"></span>\n"
   ]
  },
  {
   "cell_type": "markdown",
   "id": "cba54f5f",
   "metadata": {},
   "source": [
    "<a href=\"#report\"><button>REPORT CONTENT</button></a>"
   ]
  },
  {
   "cell_type": "code",
   "execution_count": 479,
   "id": "d0c64f1c",
   "metadata": {
    "ExecuteTime": {
     "end_time": "2023-03-22T09:48:02.200691Z",
     "start_time": "2023-03-22T09:48:02.187678Z"
    },
    "id": "d0c64f1c"
   },
   "outputs": [],
   "source": [
    "x = df.drop([\"Fuel Type\",'Fuel Consumption',\"Vehicle Class\",\"Transmission\"], axis = 1)"
   ]
  },
  {
   "cell_type": "code",
   "execution_count": 480,
   "id": "efca0d44",
   "metadata": {
    "ExecuteTime": {
     "end_time": "2023-03-22T09:48:02.230826Z",
     "start_time": "2023-03-22T09:48:02.202808Z"
    }
   },
   "outputs": [
    {
     "data": {
      "text/html": [
       "<div>\n",
       "<style scoped>\n",
       "    .dataframe tbody tr th:only-of-type {\n",
       "        vertical-align: middle;\n",
       "    }\n",
       "\n",
       "    .dataframe tbody tr th {\n",
       "        vertical-align: top;\n",
       "    }\n",
       "\n",
       "    .dataframe thead th {\n",
       "        text-align: right;\n",
       "    }\n",
       "</style>\n",
       "<table border=\"1\" class=\"dataframe\">\n",
       "  <thead>\n",
       "    <tr style=\"text-align: right;\">\n",
       "      <th></th>\n",
       "      <th>Engine Size</th>\n",
       "      <th>Cylinders</th>\n",
       "      <th>CO2 Rating</th>\n",
       "      <th>Transmission_X</th>\n",
       "      <th>Vehicle Class_X</th>\n",
       "      <th>D</th>\n",
       "      <th>E</th>\n",
       "      <th>X</th>\n",
       "      <th>Z</th>\n",
       "    </tr>\n",
       "  </thead>\n",
       "  <tbody>\n",
       "    <tr>\n",
       "      <th>0</th>\n",
       "      <td>2.4</td>\n",
       "      <td>4</td>\n",
       "      <td>6.0</td>\n",
       "      <td>1.0</td>\n",
       "      <td>2.0</td>\n",
       "      <td>0</td>\n",
       "      <td>0</td>\n",
       "      <td>0</td>\n",
       "      <td>1</td>\n",
       "    </tr>\n",
       "    <tr>\n",
       "      <th>1</th>\n",
       "      <td>3.5</td>\n",
       "      <td>6</td>\n",
       "      <td>4.0</td>\n",
       "      <td>3.0</td>\n",
       "      <td>6.0</td>\n",
       "      <td>0</td>\n",
       "      <td>0</td>\n",
       "      <td>0</td>\n",
       "      <td>1</td>\n",
       "    </tr>\n",
       "    <tr>\n",
       "      <th>2</th>\n",
       "      <td>2.0</td>\n",
       "      <td>4</td>\n",
       "      <td>5.0</td>\n",
       "      <td>3.0</td>\n",
       "      <td>6.0</td>\n",
       "      <td>0</td>\n",
       "      <td>0</td>\n",
       "      <td>0</td>\n",
       "      <td>1</td>\n",
       "    </tr>\n",
       "    <tr>\n",
       "      <th>3</th>\n",
       "      <td>2.0</td>\n",
       "      <td>4</td>\n",
       "      <td>5.0</td>\n",
       "      <td>3.0</td>\n",
       "      <td>6.0</td>\n",
       "      <td>0</td>\n",
       "      <td>0</td>\n",
       "      <td>0</td>\n",
       "      <td>1</td>\n",
       "    </tr>\n",
       "    <tr>\n",
       "      <th>4</th>\n",
       "      <td>2.0</td>\n",
       "      <td>4</td>\n",
       "      <td>5.0</td>\n",
       "      <td>3.0</td>\n",
       "      <td>2.0</td>\n",
       "      <td>0</td>\n",
       "      <td>0</td>\n",
       "      <td>0</td>\n",
       "      <td>1</td>\n",
       "    </tr>\n",
       "  </tbody>\n",
       "</table>\n",
       "</div>"
      ],
      "text/plain": [
       "   Engine Size  Cylinders  CO2 Rating  Transmission_X  Vehicle Class_X  D  E  \\\n",
       "0          2.4          4         6.0             1.0              2.0  0  0   \n",
       "1          3.5          6         4.0             3.0              6.0  0  0   \n",
       "2          2.0          4         5.0             3.0              6.0  0  0   \n",
       "3          2.0          4         5.0             3.0              6.0  0  0   \n",
       "4          2.0          4         5.0             3.0              2.0  0  0   \n",
       "\n",
       "   X  Z  \n",
       "0  0  1  \n",
       "1  0  1  \n",
       "2  0  1  \n",
       "3  0  1  \n",
       "4  0  1  "
      ]
     },
     "execution_count": 480,
     "metadata": {},
     "output_type": "execute_result"
    }
   ],
   "source": [
    "x.head()"
   ]
  },
  {
   "cell_type": "code",
   "execution_count": 481,
   "id": "09fbbafe",
   "metadata": {
    "ExecuteTime": {
     "end_time": "2023-03-22T09:48:02.246357Z",
     "start_time": "2023-03-22T09:48:02.231825Z"
    }
   },
   "outputs": [],
   "source": [
    "y= df['Fuel Consumption']"
   ]
  },
  {
   "cell_type": "code",
   "execution_count": 482,
   "id": "91760442",
   "metadata": {
    "ExecuteTime": {
     "end_time": "2023-03-22T09:48:02.262382Z",
     "start_time": "2023-03-22T09:48:02.248354Z"
    }
   },
   "outputs": [
    {
     "data": {
      "text/html": [
       "<div>\n",
       "<style scoped>\n",
       "    .dataframe tbody tr th:only-of-type {\n",
       "        vertical-align: middle;\n",
       "    }\n",
       "\n",
       "    .dataframe tbody tr th {\n",
       "        vertical-align: top;\n",
       "    }\n",
       "\n",
       "    .dataframe thead th {\n",
       "        text-align: right;\n",
       "    }\n",
       "</style>\n",
       "<table border=\"1\" class=\"dataframe\">\n",
       "  <thead>\n",
       "    <tr style=\"text-align: right;\">\n",
       "      <th></th>\n",
       "      <th>Fuel Consumption</th>\n",
       "    </tr>\n",
       "  </thead>\n",
       "  <tbody>\n",
       "    <tr>\n",
       "      <th>0</th>\n",
       "      <td>8.6</td>\n",
       "    </tr>\n",
       "    <tr>\n",
       "      <th>1</th>\n",
       "      <td>11.2</td>\n",
       "    </tr>\n",
       "    <tr>\n",
       "      <th>2</th>\n",
       "      <td>9.9</td>\n",
       "    </tr>\n",
       "    <tr>\n",
       "      <th>3</th>\n",
       "      <td>10.3</td>\n",
       "    </tr>\n",
       "    <tr>\n",
       "      <th>4</th>\n",
       "      <td>9.8</td>\n",
       "    </tr>\n",
       "  </tbody>\n",
       "</table>\n",
       "</div>"
      ],
      "text/plain": [
       "   Fuel Consumption\n",
       "0               8.6\n",
       "1              11.2\n",
       "2               9.9\n",
       "3              10.3\n",
       "4               9.8"
      ]
     },
     "execution_count": 482,
     "metadata": {},
     "output_type": "execute_result"
    }
   ],
   "source": [
    "y.head().to_frame()"
   ]
  },
  {
   "cell_type": "code",
   "execution_count": 483,
   "id": "eee3328c",
   "metadata": {
    "ExecuteTime": {
     "end_time": "2023-03-22T09:48:02.277853Z",
     "start_time": "2023-03-22T09:48:02.263378Z"
    },
    "id": "eee3328c"
   },
   "outputs": [],
   "source": [
    "#from sklearn.model_selection import train_test_split\n",
    "xtrain, xtest, ytrain, ytest = train_test_split(x,y, test_size= 0.25 , random_state= 51)"
   ]
  },
  {
   "cell_type": "code",
   "execution_count": 484,
   "id": "f1ba16ff",
   "metadata": {
    "ExecuteTime": {
     "end_time": "2023-03-22T09:48:02.309565Z",
     "start_time": "2023-03-22T09:48:02.279360Z"
    },
    "id": "f1ba16ff",
    "outputId": "58911f4c-7453-46a9-8009-1493229108d3"
   },
   "outputs": [
    {
     "data": {
      "text/html": [
       "<div>\n",
       "<style scoped>\n",
       "    .dataframe tbody tr th:only-of-type {\n",
       "        vertical-align: middle;\n",
       "    }\n",
       "\n",
       "    .dataframe tbody tr th {\n",
       "        vertical-align: top;\n",
       "    }\n",
       "\n",
       "    .dataframe thead th {\n",
       "        text-align: right;\n",
       "    }\n",
       "</style>\n",
       "<table border=\"1\" class=\"dataframe\">\n",
       "  <thead>\n",
       "    <tr style=\"text-align: right;\">\n",
       "      <th></th>\n",
       "      <th>Engine Size</th>\n",
       "      <th>Cylinders</th>\n",
       "      <th>CO2 Rating</th>\n",
       "      <th>Transmission_X</th>\n",
       "      <th>Vehicle Class_X</th>\n",
       "      <th>D</th>\n",
       "      <th>E</th>\n",
       "      <th>X</th>\n",
       "      <th>Z</th>\n",
       "    </tr>\n",
       "  </thead>\n",
       "  <tbody>\n",
       "    <tr>\n",
       "      <th>524</th>\n",
       "      <td>3.0</td>\n",
       "      <td>6</td>\n",
       "      <td>5.0</td>\n",
       "      <td>4.0</td>\n",
       "      <td>6.0</td>\n",
       "      <td>1</td>\n",
       "      <td>0</td>\n",
       "      <td>0</td>\n",
       "      <td>0</td>\n",
       "    </tr>\n",
       "    <tr>\n",
       "      <th>579</th>\n",
       "      <td>5.0</td>\n",
       "      <td>8</td>\n",
       "      <td>4.0</td>\n",
       "      <td>3.0</td>\n",
       "      <td>7.0</td>\n",
       "      <td>0</td>\n",
       "      <td>0</td>\n",
       "      <td>0</td>\n",
       "      <td>1</td>\n",
       "    </tr>\n",
       "    <tr>\n",
       "      <th>336</th>\n",
       "      <td>3.5</td>\n",
       "      <td>6</td>\n",
       "      <td>5.0</td>\n",
       "      <td>3.0</td>\n",
       "      <td>13.0</td>\n",
       "      <td>0</td>\n",
       "      <td>0</td>\n",
       "      <td>1</td>\n",
       "      <td>0</td>\n",
       "    </tr>\n",
       "    <tr>\n",
       "      <th>155</th>\n",
       "      <td>3.0</td>\n",
       "      <td>6</td>\n",
       "      <td>4.0</td>\n",
       "      <td>3.0</td>\n",
       "      <td>4.0</td>\n",
       "      <td>0</td>\n",
       "      <td>0</td>\n",
       "      <td>0</td>\n",
       "      <td>1</td>\n",
       "    </tr>\n",
       "    <tr>\n",
       "      <th>859</th>\n",
       "      <td>2.4</td>\n",
       "      <td>4</td>\n",
       "      <td>5.0</td>\n",
       "      <td>0.0</td>\n",
       "      <td>6.0</td>\n",
       "      <td>0</td>\n",
       "      <td>0</td>\n",
       "      <td>1</td>\n",
       "      <td>0</td>\n",
       "    </tr>\n",
       "    <tr>\n",
       "      <th>...</th>\n",
       "      <td>...</td>\n",
       "      <td>...</td>\n",
       "      <td>...</td>\n",
       "      <td>...</td>\n",
       "      <td>...</td>\n",
       "      <td>...</td>\n",
       "      <td>...</td>\n",
       "      <td>...</td>\n",
       "      <td>...</td>\n",
       "    </tr>\n",
       "    <tr>\n",
       "      <th>631</th>\n",
       "      <td>2.0</td>\n",
       "      <td>4</td>\n",
       "      <td>6.0</td>\n",
       "      <td>3.0</td>\n",
       "      <td>2.0</td>\n",
       "      <td>0</td>\n",
       "      <td>0</td>\n",
       "      <td>1</td>\n",
       "      <td>0</td>\n",
       "    </tr>\n",
       "    <tr>\n",
       "      <th>834</th>\n",
       "      <td>5.7</td>\n",
       "      <td>8</td>\n",
       "      <td>3.0</td>\n",
       "      <td>4.0</td>\n",
       "      <td>13.0</td>\n",
       "      <td>0</td>\n",
       "      <td>0</td>\n",
       "      <td>1</td>\n",
       "      <td>0</td>\n",
       "    </tr>\n",
       "    <tr>\n",
       "      <th>872</th>\n",
       "      <td>2.5</td>\n",
       "      <td>4</td>\n",
       "      <td>6.0</td>\n",
       "      <td>3.0</td>\n",
       "      <td>4.0</td>\n",
       "      <td>0</td>\n",
       "      <td>0</td>\n",
       "      <td>1</td>\n",
       "      <td>0</td>\n",
       "    </tr>\n",
       "    <tr>\n",
       "      <th>584</th>\n",
       "      <td>3.5</td>\n",
       "      <td>6</td>\n",
       "      <td>5.0</td>\n",
       "      <td>3.0</td>\n",
       "      <td>4.0</td>\n",
       "      <td>0</td>\n",
       "      <td>0</td>\n",
       "      <td>1</td>\n",
       "      <td>0</td>\n",
       "    </tr>\n",
       "    <tr>\n",
       "      <th>66</th>\n",
       "      <td>4.0</td>\n",
       "      <td>8</td>\n",
       "      <td>4.0</td>\n",
       "      <td>1.0</td>\n",
       "      <td>3.0</td>\n",
       "      <td>0</td>\n",
       "      <td>0</td>\n",
       "      <td>0</td>\n",
       "      <td>1</td>\n",
       "    </tr>\n",
       "  </tbody>\n",
       "</table>\n",
       "<p>586 rows × 9 columns</p>\n",
       "</div>"
      ],
      "text/plain": [
       "     Engine Size  Cylinders  CO2 Rating  Transmission_X  Vehicle Class_X  D  \\\n",
       "524          3.0          6         5.0             4.0              6.0  1   \n",
       "579          5.0          8         4.0             3.0              7.0  0   \n",
       "336          3.5          6         5.0             3.0             13.0  0   \n",
       "155          3.0          6         4.0             3.0              4.0  0   \n",
       "859          2.4          4         5.0             0.0              6.0  0   \n",
       "..           ...        ...         ...             ...              ... ..   \n",
       "631          2.0          4         6.0             3.0              2.0  0   \n",
       "834          5.7          8         3.0             4.0             13.0  0   \n",
       "872          2.5          4         6.0             3.0              4.0  0   \n",
       "584          3.5          6         5.0             3.0              4.0  0   \n",
       "66           4.0          8         4.0             1.0              3.0  0   \n",
       "\n",
       "     E  X  Z  \n",
       "524  0  0  0  \n",
       "579  0  0  1  \n",
       "336  0  1  0  \n",
       "155  0  0  1  \n",
       "859  0  1  0  \n",
       "..  .. .. ..  \n",
       "631  0  1  0  \n",
       "834  0  1  0  \n",
       "872  0  1  0  \n",
       "584  0  1  0  \n",
       "66   0  0  1  \n",
       "\n",
       "[586 rows x 9 columns]"
      ]
     },
     "execution_count": 484,
     "metadata": {},
     "output_type": "execute_result"
    }
   ],
   "source": [
    "xtrain"
   ]
  },
  {
   "cell_type": "markdown",
   "id": "ed14f7e6",
   "metadata": {
    "id": "ed14f7e6"
   },
   "source": [
    "## 5.6 Feature Scaling\n",
    "<span id=\"scailing\"></span>\n"
   ]
  },
  {
   "cell_type": "markdown",
   "id": "67af9a09",
   "metadata": {},
   "source": [
    "<a href=\"#report\"><button>REPORT CONTENT</button></a>"
   ]
  },
  {
   "cell_type": "code",
   "execution_count": 485,
   "id": "c774adf3",
   "metadata": {
    "ExecuteTime": {
     "end_time": "2023-03-22T09:48:02.324642Z",
     "start_time": "2023-03-22T09:48:02.312560Z"
    },
    "id": "c774adf3"
   },
   "outputs": [],
   "source": [
    "#from sklearn.preprocessing import StandardScaler\n",
    "sc = StandardScaler()"
   ]
  },
  {
   "cell_type": "code",
   "execution_count": 486,
   "id": "775442de",
   "metadata": {
    "ExecuteTime": {
     "end_time": "2023-03-22T09:48:02.340438Z",
     "start_time": "2023-03-22T09:48:02.326636Z"
    },
    "id": "775442de"
   },
   "outputs": [],
   "source": [
    "xtrain = sc.fit_transform(xtrain)"
   ]
  },
  {
   "cell_type": "code",
   "execution_count": 487,
   "id": "45ec62e2",
   "metadata": {
    "ExecuteTime": {
     "end_time": "2023-03-22T09:48:02.355840Z",
     "start_time": "2023-03-22T09:48:02.341855Z"
    },
    "id": "45ec62e2",
    "outputId": "eff082d7-04e1-44e7-e5f8-4fc797476e90"
   },
   "outputs": [
    {
     "data": {
      "text/plain": [
       "array([[-0.15350414,  0.26173852,  0.60377555, ..., -0.07173421,\n",
       "        -0.87467722, -1.04897971],\n",
       "       [ 1.46727829,  1.55607414, -0.3928793 , ..., -0.07173421,\n",
       "        -0.87467722,  0.95330729],\n",
       "       [ 0.25169147,  0.26173852,  0.60377555, ..., -0.07173421,\n",
       "         1.14327889, -1.04897971],\n",
       "       ...,\n",
       "       [-0.55869974, -1.0325971 ,  1.6004304 , ..., -0.07173421,\n",
       "         1.14327889, -1.04897971],\n",
       "       [ 0.25169147,  0.26173852,  0.60377555, ..., -0.07173421,\n",
       "         1.14327889, -1.04897971],\n",
       "       [ 0.65688708,  1.55607414, -0.3928793 , ..., -0.07173421,\n",
       "        -0.87467722,  0.95330729]])"
      ]
     },
     "execution_count": 487,
     "metadata": {},
     "output_type": "execute_result"
    }
   ],
   "source": [
    "xtrain"
   ]
  },
  {
   "cell_type": "code",
   "execution_count": 488,
   "id": "0418858b",
   "metadata": {
    "ExecuteTime": {
     "end_time": "2023-03-22T09:48:02.371074Z",
     "start_time": "2023-03-22T09:48:02.357834Z"
    },
    "id": "0418858b"
   },
   "outputs": [],
   "source": [
    "xtest = sc.transform(xtest)"
   ]
  },
  {
   "cell_type": "code",
   "execution_count": 489,
   "id": "d323363f",
   "metadata": {
    "ExecuteTime": {
     "end_time": "2023-03-22T09:48:02.386460Z",
     "start_time": "2023-03-22T09:48:02.373071Z"
    },
    "id": "d323363f",
    "outputId": "6f3a038e-9826-4f99-d6cf-372e83b0e8e2"
   },
   "outputs": [
    {
     "data": {
      "text/plain": [
       "array([[ 0.25169147,  0.26173852, -0.3928793 , ..., -0.07173421,\n",
       "         1.14327889, -1.04897971],\n",
       "       [ 0.33273059,  0.26173852,  0.60377555, ..., -0.07173421,\n",
       "         1.14327889, -1.04897971],\n",
       "       [ 0.65688708,  1.55607414, -1.38953415, ..., -0.07173421,\n",
       "        -0.87467722,  0.95330729],\n",
       "       ...,\n",
       "       [-0.96389535, -1.0325971 ,  0.60377555, ..., -0.07173421,\n",
       "         1.14327889, -1.04897971],\n",
       "       [-0.23454326,  0.26173852, -0.3928793 , ..., -0.07173421,\n",
       "        -0.87467722,  0.95330729],\n",
       "       [-0.55869974, -1.0325971 ,  1.6004304 , ..., -0.07173421,\n",
       "         1.14327889, -1.04897971]])"
      ]
     },
     "execution_count": 489,
     "metadata": {},
     "output_type": "execute_result"
    }
   ],
   "source": [
    "xtest"
   ]
  },
  {
   "cell_type": "markdown",
   "id": "f5644c47",
   "metadata": {
    "id": "f5644c47"
   },
   "source": [
    "-----\n",
    "<center>\n",
    "<h1 style=\"font-size: 40px; font-family: serif;\">6. Training Models</h1>\n",
    "</center>\n",
    "<span id=\"model\"></span>\n",
    "\n",
    "---"
   ]
  },
  {
   "cell_type": "markdown",
   "id": "091f9a13",
   "metadata": {
    "id": "091f9a13"
   },
   "source": [
    "# 6.1 Linear Regression\n",
    "<span id=\"linear\"></span>\n"
   ]
  },
  {
   "cell_type": "markdown",
   "id": "d49f7833",
   "metadata": {},
   "source": [
    "<a href=\"#report\"><button>REPORT CONTENT</button></a>"
   ]
  },
  {
   "cell_type": "code",
   "execution_count": 490,
   "id": "b425cd78",
   "metadata": {
    "ExecuteTime": {
     "end_time": "2023-03-22T09:48:02.401870Z",
     "start_time": "2023-03-22T09:48:02.387457Z"
    },
    "id": "b425cd78"
   },
   "outputs": [],
   "source": [
    "#from sklearn.linear_model import LinearRegression\n",
    "lr = LinearRegression()"
   ]
  },
  {
   "cell_type": "code",
   "execution_count": 491,
   "id": "c114c350",
   "metadata": {
    "ExecuteTime": {
     "end_time": "2023-03-22T09:48:02.417878Z",
     "start_time": "2023-03-22T09:48:02.402868Z"
    },
    "id": "c114c350",
    "outputId": "3db5ff46-b9c8-43ef-e0b9-673f4fd0e333"
   },
   "outputs": [
    {
     "data": {
      "text/plain": [
       "LinearRegression()"
      ]
     },
     "execution_count": 491,
     "metadata": {},
     "output_type": "execute_result"
    }
   ],
   "source": [
    "lr.fit(xtrain,ytrain)"
   ]
  },
  {
   "cell_type": "code",
   "execution_count": 492,
   "id": "a817ee71",
   "metadata": {
    "ExecuteTime": {
     "end_time": "2023-03-22T09:48:02.433885Z",
     "start_time": "2023-03-22T09:48:02.419385Z"
    },
    "id": "a817ee71",
    "outputId": "ce8ce4a3-5acc-4c92-b3ae-33d8438f45fc"
   },
   "outputs": [
    {
     "data": {
      "text/plain": [
       "11.121331058020479"
      ]
     },
     "execution_count": 492,
     "metadata": {},
     "output_type": "execute_result"
    }
   ],
   "source": [
    "lr.intercept_"
   ]
  },
  {
   "cell_type": "markdown",
   "id": "faa95b28",
   "metadata": {
    "id": "faa95b28"
   },
   "source": [
    "**Checking if model is overfitted or underfitted**"
   ]
  },
  {
   "cell_type": "code",
   "execution_count": 493,
   "id": "8cb4eef7",
   "metadata": {
    "ExecuteTime": {
     "end_time": "2023-03-22T09:48:02.449374Z",
     "start_time": "2023-03-22T09:48:02.435880Z"
    },
    "id": "8cb4eef7",
    "outputId": "d379851a-35f0-41ad-f67a-b5871756b6b4",
    "scrolled": true
   },
   "outputs": [
    {
     "name": "stdout",
     "output_type": "stream",
     "text": [
      "training score =  0.9264095517484702\n",
      "testing score =  0.919338113975973\n"
     ]
    }
   ],
   "source": [
    "print(\"training score = \",lr.score(xtrain,ytrain))\n",
    "print(\"testing score = \",lr.score(xtest,ytest))"
   ]
  },
  {
   "cell_type": "code",
   "execution_count": 494,
   "id": "ec7ae667",
   "metadata": {
    "ExecuteTime": {
     "end_time": "2023-03-22T09:48:02.465473Z",
     "start_time": "2023-03-22T09:48:02.450750Z"
    },
    "id": "ec7ae667"
   },
   "outputs": [],
   "source": [
    "ypred = lr.predict(xtest)"
   ]
  },
  {
   "cell_type": "code",
   "execution_count": 495,
   "id": "806fc17a",
   "metadata": {
    "ExecuteTime": {
     "end_time": "2023-03-22T09:48:02.480302Z",
     "start_time": "2023-03-22T09:48:02.467833Z"
    },
    "id": "806fc17a",
    "outputId": "3294f995-3b4f-4ecb-bb7d-11a09ad87dd5"
   },
   "outputs": [
    {
     "data": {
      "text/plain": [
       "0.919338113975973"
      ]
     },
     "execution_count": 495,
     "metadata": {},
     "output_type": "execute_result"
    }
   ],
   "source": [
    "r2_score(ytest, ypred)"
   ]
  },
  {
   "cell_type": "markdown",
   "id": "826d1ceb",
   "metadata": {
    "id": "826d1ceb"
   },
   "source": [
    "# 6.2 Decision Tree Regressor\n",
    "<span id=\"decision\"></span>\n"
   ]
  },
  {
   "cell_type": "markdown",
   "id": "02216077",
   "metadata": {
    "ExecuteTime": {
     "end_time": "2023-03-20T08:18:49.027494Z",
     "start_time": "2023-03-20T08:18:49.010538Z"
    }
   },
   "source": [
    "<a href=\"#report\"><button>REPORT CONTENT</button></a>"
   ]
  },
  {
   "cell_type": "code",
   "execution_count": 496,
   "id": "0014feb2",
   "metadata": {
    "ExecuteTime": {
     "end_time": "2023-03-22T09:48:02.495994Z",
     "start_time": "2023-03-22T09:48:02.482300Z"
    },
    "id": "0014feb2"
   },
   "outputs": [],
   "source": [
    "# from sklearn.tree import DecisionTreeRegressor\n",
    "dc=DecisionTreeRegressor(max_depth=4)"
   ]
  },
  {
   "cell_type": "code",
   "execution_count": 497,
   "id": "50c4bc7d",
   "metadata": {
    "ExecuteTime": {
     "end_time": "2023-03-22T09:48:02.512212Z",
     "start_time": "2023-03-22T09:48:02.498258Z"
    },
    "id": "50c4bc7d",
    "outputId": "64b36d53-deab-409c-8612-0eda61b85677"
   },
   "outputs": [
    {
     "data": {
      "text/plain": [
       "DecisionTreeRegressor(max_depth=4)"
      ]
     },
     "execution_count": 497,
     "metadata": {},
     "output_type": "execute_result"
    }
   ],
   "source": [
    "dc.fit(xtrain,ytrain)"
   ]
  },
  {
   "cell_type": "code",
   "execution_count": 498,
   "id": "11c7e078",
   "metadata": {
    "ExecuteTime": {
     "end_time": "2023-03-22T09:48:02.527007Z",
     "start_time": "2023-03-22T09:48:02.513729Z"
    },
    "id": "11c7e078"
   },
   "outputs": [],
   "source": [
    "ypred=dc.predict(xtest)"
   ]
  },
  {
   "cell_type": "markdown",
   "id": "c68f8448",
   "metadata": {
    "id": "c68f8448"
   },
   "source": [
    "**Checking if model is overfitted or underfitted**"
   ]
  },
  {
   "cell_type": "code",
   "execution_count": 499,
   "id": "21e3acd0",
   "metadata": {
    "ExecuteTime": {
     "end_time": "2023-03-22T09:48:02.542211Z",
     "start_time": "2023-03-22T09:48:02.529017Z"
    },
    "id": "21e3acd0",
    "outputId": "711dd32b-582e-46d2-c291-69d92bfd1fe9"
   },
   "outputs": [
    {
     "name": "stdout",
     "output_type": "stream",
     "text": [
      "training score =  0.9317982511143293\n",
      "testing score =  0.8573248570717544\n"
     ]
    }
   ],
   "source": [
    "print(\"training score = \",dc.score(xtrain,ytrain))\n",
    "print(\"testing score = \",dc.score(xtest,ytest))"
   ]
  },
  {
   "cell_type": "code",
   "execution_count": 500,
   "id": "7b2f5126",
   "metadata": {
    "ExecuteTime": {
     "end_time": "2023-03-22T09:48:02.558024Z",
     "start_time": "2023-03-22T09:48:02.543208Z"
    },
    "id": "7b2f5126",
    "outputId": "2798003e-9ced-4962-8b08-9ffa44e6318e",
    "scrolled": true
   },
   "outputs": [
    {
     "data": {
      "text/plain": [
       "0.8573248570717544"
      ]
     },
     "execution_count": 500,
     "metadata": {},
     "output_type": "execute_result"
    }
   ],
   "source": [
    "r2_score(ytest, ypred)"
   ]
  },
  {
   "cell_type": "markdown",
   "id": "f03bce7c",
   "metadata": {
    "id": "f03bce7c"
   },
   "source": [
    "**Visualising the tree**"
   ]
  },
  {
   "cell_type": "code",
   "execution_count": 501,
   "id": "502c8f8f",
   "metadata": {
    "ExecuteTime": {
     "end_time": "2023-03-22T09:48:02.573318Z",
     "start_time": "2023-03-22T09:48:02.561532Z"
    },
    "id": "502c8f8f"
   },
   "outputs": [],
   "source": [
    "from sklearn import tree"
   ]
  },
  {
   "cell_type": "code",
   "execution_count": 502,
   "id": "4bf9fa3f",
   "metadata": {
    "ExecuteTime": {
     "end_time": "2023-03-22T09:48:02.589324Z",
     "start_time": "2023-03-22T09:48:02.574315Z"
    },
    "id": "4bf9fa3f"
   },
   "outputs": [],
   "source": [
    "new = df[[\"Vehicle Class\",\"Engine Size\",\"Cylinders\",\"Transmission\",\"Fuel Type\",\"CO2 Rating\"]]"
   ]
  },
  {
   "cell_type": "code",
   "execution_count": 503,
   "id": "06649b7e",
   "metadata": {
    "ExecuteTime": {
     "end_time": "2023-03-22T09:48:04.119368Z",
     "start_time": "2023-03-22T09:48:02.591826Z"
    },
    "id": "06649b7e",
    "outputId": "43285834-bd76-47a0-c860-240b5907b829",
    "scrolled": false
   },
   "outputs": [
    {
     "data": {
      "image/png": "[encoded data removed]",
      "text/plain": [
       "<Figure size 3600x2160 with 1 Axes>"
      ]
     },
     "metadata": {
      "needs_background": "light"
     },
     "output_type": "display_data"
    }
   ],
   "source": [
    "plt.figure(figsize=(50,30))\n",
    "tree.plot_tree(dc)\n",
    "plt.show()"
   ]
  },
  {
   "cell_type": "markdown",
   "id": "420858ac",
   "metadata": {
    "id": "420858ac"
   },
   "source": [
    "# 6.3 Random Forest Regressor\n",
    "<span id=\"rf\"></span>"
   ]
  },
  {
   "cell_type": "markdown",
   "id": "11388b72",
   "metadata": {
    "ExecuteTime": {
     "end_time": "2023-03-20T08:18:57.309925Z",
     "start_time": "2023-03-20T08:18:57.305936Z"
    }
   },
   "source": [
    "<a href=\"#report\"><button>REPORT CONTENT</button></a>"
   ]
  },
  {
   "cell_type": "code",
   "execution_count": 504,
   "id": "ac6ae5b4",
   "metadata": {
    "ExecuteTime": {
     "end_time": "2023-03-22T09:48:04.134845Z",
     "start_time": "2023-03-22T09:48:04.121370Z"
    },
    "id": "ac6ae5b4"
   },
   "outputs": [],
   "source": [
    "#from sklearn.ensemble import RandomForestRegressor\n",
    "rf = RandomForestRegressor()"
   ]
  },
  {
   "cell_type": "code",
   "execution_count": 505,
   "id": "5c403d4e",
   "metadata": {
    "ExecuteTime": {
     "end_time": "2023-03-22T09:48:04.149846Z",
     "start_time": "2023-03-22T09:48:04.136844Z"
    },
    "id": "5c403d4e"
   },
   "outputs": [],
   "source": [
    "no_of_decision_tree = [10,20,30,40,50,60,70,80,90,100]\n",
    "max_no_of_features = ['sqrt','log2']\n",
    "max_depth = [6,7,8,9,10,11,12,13,14,15]\n",
    "criterion_of_decision_tree = [\"squared_error\", \"poisson\"]\n",
    "min_sample_split=[2,3,4,5,6]"
   ]
  },
  {
   "cell_type": "code",
   "execution_count": 506,
   "id": "83a7fea9",
   "metadata": {
    "ExecuteTime": {
     "end_time": "2023-03-22T09:48:04.164486Z",
     "start_time": "2023-03-22T09:48:04.152918Z"
    },
    "id": "83a7fea9"
   },
   "outputs": [],
   "source": [
    "random_grid = {\n",
    "    'n_estimators' : no_of_decision_tree,\n",
    "    'max_features' : max_no_of_features,\n",
    "    'max_depth' : max_depth,\n",
    "    'criterion' : criterion_of_decision_tree,\n",
    "    'min_samples_split' : min_sample_split\n",
    "}"
   ]
  },
  {
   "cell_type": "markdown",
   "id": "5dc6b8f8",
   "metadata": {
    "id": "5dc6b8f8"
   },
   "source": [
    "### Hyper Parameter Tuning"
   ]
  },
  {
   "cell_type": "code",
   "execution_count": 507,
   "id": "c4c25019",
   "metadata": {
    "ExecuteTime": {
     "end_time": "2023-03-22T09:48:05.422789Z",
     "start_time": "2023-03-22T09:48:04.166480Z"
    },
    "id": "c4c25019",
    "outputId": "0fbf54f9-1cc8-46f3-f297-9e40c9f2c0cd"
   },
   "outputs": [
    {
     "data": {
      "text/plain": [
       "RandomizedSearchCV(cv=5, estimator=RandomForestRegressor(), n_iter=25,\n",
       "                   n_jobs=-1,\n",
       "                   param_distributions={'criterion': ['squared_error',\n",
       "                                                      'poisson'],\n",
       "                                        'max_depth': [6, 7, 8, 9, 10, 11, 12,\n",
       "                                                      13, 14, 15],\n",
       "                                        'max_features': ['sqrt', 'log2'],\n",
       "                                        'min_samples_split': [2, 3, 4, 5, 6],\n",
       "                                        'n_estimators': [10, 20, 30, 40, 50, 60,\n",
       "                                                         70, 80, 90, 100]})"
      ]
     },
     "execution_count": 507,
     "metadata": {},
     "output_type": "execute_result"
    }
   ],
   "source": [
    "from sklearn.model_selection import RandomizedSearchCV\n",
    "rscv = RandomizedSearchCV(estimator = rf , param_distributions = random_grid , n_iter = 25 , cv = 5 ,n_jobs=-1)\n",
    "rscv.fit(xtrain, ytrain)"
   ]
  },
  {
   "cell_type": "code",
   "execution_count": 508,
   "id": "d60736a2",
   "metadata": {
    "ExecuteTime": {
     "end_time": "2023-03-22T09:48:05.437623Z",
     "start_time": "2023-03-22T09:48:05.425781Z"
    },
    "id": "d60736a2",
    "outputId": "340bf448-534d-4da5-f978-47442c4c9c3c"
   },
   "outputs": [
    {
     "data": {
      "text/plain": [
       "{'n_estimators': 30,\n",
       " 'min_samples_split': 2,\n",
       " 'max_features': 'log2',\n",
       " 'max_depth': 13,\n",
       " 'criterion': 'squared_error'}"
      ]
     },
     "execution_count": 508,
     "metadata": {},
     "output_type": "execute_result"
    }
   ],
   "source": [
    "rscv.best_params_"
   ]
  },
  {
   "cell_type": "code",
   "execution_count": 509,
   "id": "680558cc",
   "metadata": {
    "ExecuteTime": {
     "end_time": "2023-03-22T09:48:05.452950Z",
     "start_time": "2023-03-22T09:48:05.440150Z"
    },
    "id": "680558cc"
   },
   "outputs": [],
   "source": [
    "rf = RandomForestRegressor(n_estimators = 60 , min_samples_split = 4, max_features =  'sqrt', max_depth = 10, criterion='squared_error')"
   ]
  },
  {
   "cell_type": "code",
   "execution_count": 510,
   "id": "f1c580e5",
   "metadata": {
    "ExecuteTime": {
     "end_time": "2023-03-22T09:48:05.546238Z",
     "start_time": "2023-03-22T09:48:05.454943Z"
    },
    "id": "f1c580e5"
   },
   "outputs": [],
   "source": [
    "rf.fit(xtrain,ytrain)\n",
    "ypred = rf.predict(xtest)"
   ]
  },
  {
   "cell_type": "markdown",
   "id": "4648a3ea",
   "metadata": {
    "id": "4648a3ea"
   },
   "source": [
    "**Checking if model is overfitted or underfitted**"
   ]
  },
  {
   "cell_type": "code",
   "execution_count": 511,
   "id": "cb8292b0",
   "metadata": {
    "ExecuteTime": {
     "end_time": "2023-03-22T09:48:05.577431Z",
     "start_time": "2023-03-22T09:48:05.547236Z"
    },
    "id": "cb8292b0",
    "outputId": "f7d615c1-2e5d-4e4c-aac5-512048bc021c"
   },
   "outputs": [
    {
     "name": "stdout",
     "output_type": "stream",
     "text": [
      "training score =  0.9646233712491123\n",
      "testing score =  0.8817488766531002\n"
     ]
    }
   ],
   "source": [
    "print(\"training score = \",rf.score(xtrain,ytrain))\n",
    "print(\"testing score = \",rf.score(xtest,ytest))"
   ]
  },
  {
   "cell_type": "code",
   "execution_count": 512,
   "id": "44256146",
   "metadata": {
    "ExecuteTime": {
     "end_time": "2023-03-22T09:48:05.592157Z",
     "start_time": "2023-03-22T09:48:05.579427Z"
    },
    "id": "44256146",
    "outputId": "dcebb546-dbc5-4337-d6e5-3dbeb18283ff"
   },
   "outputs": [
    {
     "data": {
      "text/plain": [
       "0.8817488766531002"
      ]
     },
     "execution_count": 512,
     "metadata": {},
     "output_type": "execute_result"
    }
   ],
   "source": [
    "r2_score(ytest,ypred)"
   ]
  },
  {
   "cell_type": "markdown",
   "id": "cc2cfbf3",
   "metadata": {
    "id": "cc2cfbf3"
   },
   "source": [
    "-----\n",
    "<center>\n",
    "<h1 style=\"font-size: 40px; font-family: serif;\">7. Model Deployment</h1>\n",
    "</center>\n",
    "<span id=\"deployment\"></span>\n",
    "\n",
    "---"
   ]
  },
  {
   "cell_type": "markdown",
   "id": "4d6319bc",
   "metadata": {},
   "source": [
    "<a href=\"#report\"><button>REPORT CONTENT</button></a>"
   ]
  },
  {
   "cell_type": "markdown",
   "id": "65dfa3f2",
   "metadata": {
    "id": "65dfa3f2"
   },
   "source": [
    "# 7.1 Pickling Model and Scaler object for Deployment\n",
    "<span id=\"pickling\"></span>\n"
   ]
  },
  {
   "cell_type": "code",
   "execution_count": 513,
   "id": "d681873c",
   "metadata": {
    "ExecuteTime": {
     "end_time": "2023-03-22T09:50:39.961968Z",
     "start_time": "2023-03-22T09:50:39.951492Z"
    },
    "id": "d681873c"
   },
   "outputs": [],
   "source": [
    "import os\n",
    "import pickle as pk"
   ]
  },
  {
   "cell_type": "code",
   "execution_count": 514,
   "id": "ce8b388c",
   "metadata": {
    "ExecuteTime": {
     "end_time": "2023-03-22T09:50:53.326354Z",
     "start_time": "2023-03-22T09:50:53.303220Z"
    },
    "id": "ce8b388c"
   },
   "outputs": [],
   "source": [
    "filename = \"scaled_data.sav\"\n",
    "pk.dump(sc, open(filename, \"wb\")) #write binary = wb\n",
    "loaded_scaler = pk.load(open(\"scaled_data.sav\", \"rb\")) #read binary = rb"
   ]
  },
  {
   "cell_type": "code",
   "execution_count": 515,
   "id": "82b1f143",
   "metadata": {
    "ExecuteTime": {
     "end_time": "2023-03-22T09:50:54.331240Z",
     "start_time": "2023-03-22T09:50:54.313922Z"
    },
    "id": "82b1f143"
   },
   "outputs": [],
   "source": [
    "filename = \"trained_model_lr.sav\"\n",
    "pk.dump(lr, open(filename, \"wb\"))\n",
    "loaded_model = pk.load(open(\"trained_model_lr.sav\", \"rb\"))"
   ]
  },
  {
   "cell_type": "code",
   "execution_count": 518,
   "id": "a75ccd1f",
   "metadata": {
    "ExecuteTime": {
     "end_time": "2023-03-22T09:51:16.602709Z",
     "start_time": "2023-03-22T09:51:16.593238Z"
    },
    "id": "a75ccd1f"
   },
   "outputs": [],
   "source": [
    "trail_inputs = [\"Compact\",2.4,4,\"AV\",6.0,\"X\"]    # input example"
   ]
  },
  {
   "cell_type": "code",
   "execution_count": 519,
   "id": "747a3cfe",
   "metadata": {
    "ExecuteTime": {
     "end_time": "2023-03-22T09:51:16.911692Z",
     "start_time": "2023-03-22T09:51:16.895512Z"
    },
    "id": "747a3cfe",
    "outputId": "2d36fc47-18b2-4230-df9e-8f60a9065920",
    "scrolled": true
   },
   "outputs": [
    {
     "data": {
      "text/plain": [
       "'The Fuel Consumption L/100km is 11.33'"
      ]
     },
     "execution_count": 519,
     "metadata": {},
     "output_type": "execute_result"
    }
   ],
   "source": [
    "def input_converter(trail_inputs):\n",
    "    vcl = ['Two-seater','Minicompact','Compact','Subcompact','Mid-size','Full-size','SUV: Small','SUV: Standard','Minivan','Station wagon: Small','Station wagon: Mid-size','Pickup truck: Small','Special purpose vehicle','Pickup truck: Standard']\n",
    "    trans = ['AV','AM','M','AS','A']\n",
    "    fuel = [\"D\",\"E\",\"X\",\"Z\"]\n",
    "    lst = []\n",
    "    for i in range(9):\n",
    "        if(type(trail_inputs[i]) == str):\n",
    "            if(trail_inputs[i] in vcl):\n",
    "                lst.append(vcl.index(trail_inputs[i]))\n",
    "            elif(trail_inputs[i] in trans):\n",
    "                lst.append(trans.index(trail_inputs[i]))\n",
    "            elif(trail_inputs[i] in fuel):\n",
    "                if(fuel.index(trail_inputs[i]) == 0):\n",
    "                    lst.extend([1,0,0,0])\n",
    "                    break\n",
    "                elif(fuel.index(trail_inputs[i]) == 1):\n",
    "                    lst.extend([0,1,0,0])\n",
    "                    break\n",
    "                elif(fuel.index(trail_inputs[i]) == 2):\n",
    "                    lst.extend([0,0,1,0])\n",
    "                    break\n",
    "                elif(fuel.index(trail_inputs[i]) == 3):\n",
    "                    lst.extend([0,0,0,1])\n",
    "        else:\n",
    "            lst.append(trail_inputs[i])\n",
    "\n",
    "    arr = np.asarray(lst)\n",
    "    arr = arr.reshape(1, -1)\n",
    "    arr = loaded_scaler.transform(arr)\n",
    "    prediction = loaded_model.predict(arr)\n",
    "    \n",
    "    return(f\"The Fuel Consumption L/100km is {round(prediction[0],2)}\")\n",
    "\n",
    "\n",
    "\n",
    "input_converter(trail_inputs)"
   ]
  },
  {
   "cell_type": "markdown",
   "id": "554f3776",
   "metadata": {
    "id": "554f3776"
   },
   "source": [
    "-------\n",
    "-------\n",
    "-------\n",
    "<center>\n",
    "<h1 style=\"font-size: 30px; font-family: serif;\">Thank you</h1>\n",
    "</center>"
   ]
  },
  {
   "cell_type": "markdown",
   "id": "b9a59980",
   "metadata": {},
   "source": [
    "<a href=\"#report\"><button>REPORT CONTENT</button></a>"
   ]
  }
 ],
 "metadata": {
  "colab": {
   "provenance": []
  },
  "kernelspec": {
   "display_name": "Python 3 (ipykernel)",
   "language": "python",
   "name": "python3"
  },
  "language_info": {
   "codemirror_mode": {
    "name": "ipython",
    "version": 3
   },
   "file_extension": ".py",
   "mimetype": "text/x-python",
   "name": "python",
   "nbconvert_exporter": "python",
   "pygments_lexer": "ipython3",
   "version": "3.9.12"
  },
  "toc": {
   "base_numbering": 1,
   "nav_menu": {},
   "number_sections": true,
   "sideBar": true,
   "skip_h1_title": false,
   "title_cell": "Table of Contents",
   "title_sidebar": "Contents",
   "toc_cell": false,
   "toc_position": {},
   "toc_section_display": true,
   "toc_window_display": false
  },
  "varInspector": {
   "cols": {
    "lenName": 16,
    "lenType": 16,
    "lenVar": 40
   },
   "kernels_config": {
    "python": {
     "delete_cmd_postfix": "",
     "delete_cmd_prefix": "del ",
     "library": "var_list.py",
     "varRefreshCmd": "print(var_dic_list())"
    },
    "r": {
     "delete_cmd_postfix": ") ",
     "delete_cmd_prefix": "rm(",
     "library": "var_list.r",
     "varRefreshCmd": "cat(var_dic_list()) "
    }
   },
   "types_to_exclude": [
    "module",
    "function",
    "builtin_function_or_method",
    "instance",
    "_Feature"
   ],
   "window_display": false
  }
 },
 "nbformat": 4,
 "nbformat_minor": 5
}
